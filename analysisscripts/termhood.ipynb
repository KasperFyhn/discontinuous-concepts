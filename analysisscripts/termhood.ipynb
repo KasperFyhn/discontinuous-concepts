{
 "cells": [
  {
   "cell_type": "markdown",
   "metadata": {},
   "source": [
    "# Analysis of termhood"
   ]
  },
  {
   "cell_type": "markdown",
   "metadata": {},
   "source": [
    "This notebook contains most parts of the analysis on term, the importance of a term within a corpus of a certain domain."
   ]
  },
  {
   "cell_type": "code",
   "execution_count": null,
   "metadata": {},
   "outputs": [],
   "source": [
    "import utils  # a python module in the same dir as the notebooks"
   ]
  },
  {
   "cell_type": "code",
   "execution_count": null,
   "metadata": {},
   "outputs": [],
   "source": [
    "CORPUS_NAME = 'genia'\n",
    "MODEL_SPEC = '_min2_l10'\n",
    "FREQ_THRESHOLD = 5\n",
    "C_VALUE_THRESHOLD = 2"
   ]
  },
  {
   "cell_type": "code",
   "execution_count": null,
   "metadata": {},
   "outputs": [],
   "source": [
    "import os\n",
    "os.chdir(utils.ROOT)  # get to the root directory of the project\n",
    "\n",
    "from datautils import dataio, annotations as anno\n",
    "from stats import ngramcounting\n",
    "\n",
    "# load the corpus/corpora\n",
    "print('Loading n-gram model')\n",
    "model = ngramcounting.NgramModel.load_model(CORPUS_NAME, MODEL_SPEC)\n",
    "\n",
    "if CORPUS_NAME.lower() == 'pmc':\n",
    "    corpus = dataio.load_craft_corpus() + dataio.load_genia_corpus()\n",
    "else:\n",
    "    corpus = dataio.load_corpus(CORPUS_NAME.lower())"
   ]
  },
  {
   "cell_type": "markdown",
   "metadata": {},
   "source": [
    "## Question 1: What is the termhood of concepts incl. and excl. the counts of DC's?"
   ]
  },
  {
   "cell_type": "code",
   "execution_count": null,
   "metadata": {},
   "outputs": [],
   "source": [
    "# get all continuous concepts\n",
    "\n",
    "from stats import conceptstats\n",
    "cont_concepts = conceptstats.gold_standard_concepts(corpus, discontinuous=False)\n",
    "disc_concepts = conceptstats.gold_standard_concepts(corpus, continuous=False)"
   ]
  },
  {
   "cell_type": "code",
   "execution_count": null,
   "metadata": {},
   "outputs": [],
   "source": [
    "from stats import conceptstats"
   ]
  },
  {
   "cell_type": "code",
   "execution_count": null,
   "metadata": {},
   "outputs": [],
   "source": [
    "term_freqs = conceptstats.count_concepts(corpus, discontinuous=False)\n",
    "doc_freqs = conceptstats.count_concepts(corpus, discontinuous=False,\n",
    "                                        doc_frequency=True)"
   ]
  },
  {
   "cell_type": "code",
   "execution_count": null,
   "metadata": {},
   "outputs": [],
   "source": [
    "c_values = conceptstats.calculate_c_values(cont_concepts, C_VALUE_THRESHOLD,\n",
    "                                           term_freqs)\n",
    "tf_idfs = conceptstats.calculate_tf_idf_values(cont_concepts, term_freqs,\n",
    "                                               doc_freqs, len(corpus))\n"
   ]
  },
  {
   "cell_type": "code",
   "execution_count": null,
   "metadata": {},
   "outputs": [],
   "source": [
    "all_concepts = cont_concepts.union(disc_concepts)\n",
    "term_freqs_incl_dc = conceptstats.count_concepts(corpus)\n",
    "doc_freqs_incl_dc = conceptstats.count_concepts(corpus, doc_frequency=True)"
   ]
  },
  {
   "cell_type": "code",
   "execution_count": null,
   "metadata": {},
   "outputs": [],
   "source": [
    "c_values_incl_dc = conceptstats.calculate_c_values(all_concepts, C_VALUE_THRESHOLD,\n",
    "                                                   term_freqs_incl_dc)\n",
    "tf_idfs_incl_dc = conceptstats.calculate_tf_idf_values(all_concepts, term_freqs_incl_dc,\n",
    "                                                       doc_freqs_incl_dc, len(corpus))"
   ]
  },
  {
   "cell_type": "code",
   "execution_count": null,
   "metadata": {},
   "outputs": [],
   "source": [
    "glossex_values = {concept: conceptstats.glossex(concept, model)\n",
    "                  for concept in all_concepts}\n",
    "pmi_nl_values = {concept: conceptstats.length_normalized_pmi(concept, model)\n",
    "                 for concept in all_concepts}"
   ]
  },
  {
   "cell_type": "code",
   "execution_count": null,
   "metadata": {},
   "outputs": [],
   "source": [
    "import pandas as pd\n",
    "\n",
    "data_dict = {'concept': [], 'freq': [], 'c-value': [], 'tf-idf': [],\n",
    "             'freq_INCL' : [],'c-value_INCL': [], 'tf-idf_INCL': [],\n",
    "             'glossex': [], 'pmi_nl': [], 'type': []}\n",
    "\n",
    "\n",
    "\n",
    "for concept in all_concepts:\n",
    "    \n",
    "    if term_freqs[concept] < FREQ_THRESHOLD:\n",
    "        continue\n",
    "    \n",
    "    data_dict['concept'].append(concept)\n",
    "    data_dict['freq'].append(term_freqs[concept])\n",
    "    data_dict['freq_INCL'].append(term_freqs_incl_dc[concept])\n",
    "    \n",
    "    data_dict['c-value'].append(c_values[concept] if concept in c_values else None)\n",
    "    data_dict['tf-idf'].append(tf_idfs[concept] if concept in tf_idfs else None)\n",
    "    data_dict['c-value_INCL'].append(c_values_incl_dc[concept])\n",
    "    data_dict['tf-idf_INCL'].append(tf_idfs_incl_dc[concept])\n",
    "    data_dict['glossex'].append(glossex_values[concept])\n",
    "    data_dict['pmi_nl'].append(pmi_nl_values[concept])\n",
    "    \n",
    "    \n",
    "    if concept in cont_concepts:\n",
    "        if concept in disc_concepts:\n",
    "            concept_type = 'both'\n",
    "        else:\n",
    "            concept_type = 'only_CC'\n",
    "    elif concept in disc_concepts:\n",
    "        concept_type = 'only_DC'\n",
    "    else:\n",
    "        concept_type = 'neither'\n",
    "    \n",
    "    data_dict['type'].append(concept_type)\n",
    "\n",
    "\n",
    "data = pd.DataFrame(data_dict)"
   ]
  },
  {
   "cell_type": "code",
   "execution_count": null,
   "metadata": {},
   "outputs": [],
   "source": [
    "import seaborn as sns\n",
    "sns.boxplot(x='type', y='pmi_nl', data=data, showfliers=True)"
   ]
  },
  {
   "cell_type": "code",
   "execution_count": null,
   "metadata": {},
   "outputs": [],
   "source": [
    "data.sort_values('pmi_nl')"
   ]
  },
  {
   "cell_type": "code",
   "execution_count": null,
   "metadata": {},
   "outputs": [],
   "source": [
    "import pingouin\n",
    "pingouin.mwu(data[data['type'] == 'only_CC']['pmi_nl'],\n",
    "             data[data['type'] == 'both']['pmi_nl'])"
   ]
  },
  {
   "cell_type": "code",
   "execution_count": null,
   "metadata": {},
   "outputs": [],
   "source": [
    "sns.boxplot(x='type', y='glossex', data=data, showfliers=False)"
   ]
  },
  {
   "cell_type": "code",
   "execution_count": null,
   "metadata": {},
   "outputs": [],
   "source": [
    "import pingouin\n",
    "pingouin.mwu(data[data['type'] == 'only_CC']['glossex'],\n",
    "             data[data['type'] == 'both']['glossex'])"
   ]
  },
  {
   "cell_type": "code",
   "execution_count": null,
   "metadata": {},
   "outputs": [],
   "source": [
    "%matplotlib notebook\n",
    "import seaborn"
   ]
  },
  {
   "cell_type": "code",
   "execution_count": null,
   "metadata": {},
   "outputs": [],
   "source": [
    "sns.lmplot(x='c-value', y='freq', data=data)"
   ]
  },
  {
   "cell_type": "code",
   "execution_count": null,
   "metadata": {},
   "outputs": [],
   "source": [
    "sns.lmplot(x='tf-idf', y='tf-idf_INCL', data=data)"
   ]
  },
  {
   "cell_type": "code",
   "execution_count": null,
   "metadata": {},
   "outputs": [],
   "source": [
    "sns.lmplot(x='freq', y='freq_INCL', data=data)"
   ]
  },
  {
   "cell_type": "code",
   "execution_count": null,
   "metadata": {},
   "outputs": [],
   "source": [
    "# we can perform t-tests etc."
   ]
  },
  {
   "cell_type": "markdown",
   "metadata": {},
   "source": [
    "Conclusion: Most DC's that we are interested in also occur as CC's, thus making them verifiable. The inclusion of these can enhance the term extraction recall and ranking."
   ]
  },
  {
   "cell_type": "code",
   "execution_count": null,
   "metadata": {},
   "outputs": [],
   "source": []
  }
 ],
 "metadata": {
  "kernelspec": {
   "display_name": "Python 3",
   "language": "python",
   "name": "python3"
  },
  "language_info": {
   "codemirror_mode": {
    "name": "ipython",
    "version": 3
   },
   "file_extension": ".py",
   "mimetype": "text/x-python",
   "name": "python",
   "nbconvert_exporter": "python",
   "pygments_lexer": "ipython3",
   "version": "3.6.9"
  }
 },
 "nbformat": 4,
 "nbformat_minor": 2
}
