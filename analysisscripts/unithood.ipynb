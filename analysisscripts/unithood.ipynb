{
 "cells": [
  {
   "cell_type": "markdown",
   "metadata": {},
   "source": [
    "# Analysis of unithood"
   ]
  },
  {
   "cell_type": "markdown",
   "metadata": {},
   "source": [
    "This notebook contains most parts of the analysis on unithood, the strength of association between components of concepts."
   ]
  },
  {
   "cell_type": "code",
   "execution_count": 1,
   "metadata": {},
   "outputs": [],
   "source": [
    "import utils  # a python module in the same dir as the notebooks\n",
    "import seaborn as sns"
   ]
  },
  {
   "cell_type": "code",
   "execution_count": 29,
   "metadata": {},
   "outputs": [],
   "source": [
    "CORPUS_NAME = 'genia'\n",
    "MODEL_SPEC = '_min2_l10'\n",
    "FREQ_THRESHOLD = 2"
   ]
  },
  {
   "cell_type": "code",
   "execution_count": 30,
   "metadata": {},
   "outputs": [
    {
     "name": "stdout",
     "output_type": "stream",
     "text": [
      "Loading n-gram model\n",
      "Loading GENIA corpus ... NOTE: 13 files cannot get Constituent annotations!\n"
     ]
    },
    {
     "name": "stderr",
     "output_type": "stream",
     "text": [
      "100%|██████████| 1599/1599 [00:14<00:00, 106.97it/s]\n"
     ]
    }
   ],
   "source": [
    "import os\n",
    "os.chdir(utils.ROOT)  # get to the root directory of the project\n",
    "\n",
    "from datautils import dataio, annotations as anno\n",
    "from stats import ngramcounting\n",
    "\n",
    "# load the corpus\n",
    "print('Loading n-gram model')\n",
    "model = ngramcounting.NgramModel.load_model(CORPUS_NAME, MODEL_SPEC)\n",
    "\n",
    "if CORPUS_NAME.lower() == 'pmc':\n",
    "    corpus = dataio.load_craft_corpus() + dataio.load_genia_corpus()\n",
    "else:\n",
    "    corpus = dataio.load_corpus(CORPUS_NAME.lower())"
   ]
  },
  {
   "cell_type": "markdown",
   "metadata": {},
   "source": [
    "## Question 1: How strong is the association in regular concepts?"
   ]
  },
  {
   "cell_type": "code",
   "execution_count": 31,
   "metadata": {},
   "outputs": [
    {
     "name": "stdout",
     "output_type": "stream",
     "text": [
      "Retrieving gold standard concepts ... Skipped 3 concepts not bounded at tokens boundaries.\n"
     ]
    }
   ],
   "source": [
    "# get all continuous concepts\n",
    "\n",
    "from stats import conceptstats\n",
    "cont_concepts = conceptstats.gold_standard_concepts(corpus, discontinuous=False)"
   ]
  },
  {
   "cell_type": "code",
   "execution_count": 32,
   "metadata": {},
   "outputs": [],
   "source": [
    "import nltk\n",
    "concept_bigrams = {bigram for concept in cont_concepts for bigram in nltk.bigrams(concept)}"
   ]
  },
  {
   "cell_type": "code",
   "execution_count": 33,
   "metadata": {},
   "outputs": [],
   "source": [
    "import pandas as pd\n",
    "\n",
    "# now, loop over all bigrams in the n-gram model, measure their association\n",
    "# and note whether they occur in a concept or not\n",
    "\n",
    "data_dict = {'bigram': [], 'in_concept': [],  'pmi': [], 'll': [], 'freq': []}\n",
    "\n",
    "for bigram_pattern, count in model.iterate(2, threshold=FREQ_THRESHOLD,\n",
    "                                           encoded_patterns=True):\n",
    "    \n",
    "    bigram = model.decode_pattern(bigram_pattern)\n",
    "    data_dict['bigram'].append(bigram)\n",
    "    \n",
    "    data_dict['freq'].append(count)\n",
    "    \n",
    "    word_a = bigram_pattern[0]\n",
    "    word_b = bigram_pattern[1]\n",
    "    contingency_table = model.contingency_table(word_a, word_b)\n",
    "    pmi = conceptstats.pointwise_mutual_information(contingency_table)\n",
    "    data_dict['pmi'].append(pmi)\n",
    "    ll = conceptstats.log_likelihood_ratio(contingency_table)\n",
    "    data_dict['ll'].append(ll)\n",
    "    \n",
    "    data_dict['in_concept'].append(bigram in concept_bigrams)\n",
    "\n",
    "\n",
    "data = pd.DataFrame(data_dict)"
   ]
  },
  {
   "cell_type": "code",
   "execution_count": 34,
   "metadata": {},
   "outputs": [
    {
     "data": {
      "text/html": [
       "<div>\n",
       "<style scoped>\n",
       "    .dataframe tbody tr th:only-of-type {\n",
       "        vertical-align: middle;\n",
       "    }\n",
       "\n",
       "    .dataframe tbody tr th {\n",
       "        vertical-align: top;\n",
       "    }\n",
       "\n",
       "    .dataframe thead th {\n",
       "        text-align: right;\n",
       "    }\n",
       "</style>\n",
       "<table border=\"1\" class=\"dataframe\">\n",
       "  <thead>\n",
       "    <tr style=\"text-align: right;\">\n",
       "      <th></th>\n",
       "      <th>bigram</th>\n",
       "      <th>in_concept</th>\n",
       "      <th>pmi</th>\n",
       "      <th>ll</th>\n",
       "      <th>freq</th>\n",
       "    </tr>\n",
       "  </thead>\n",
       "  <tbody>\n",
       "    <tr>\n",
       "      <th>0</th>\n",
       "      <td>(into, murine)</td>\n",
       "      <td>False</td>\n",
       "      <td>3.319521</td>\n",
       "      <td>14.217649</td>\n",
       "      <td>2</td>\n",
       "    </tr>\n",
       "    <tr>\n",
       "      <th>1</th>\n",
       "      <td>(immunity, ,)</td>\n",
       "      <td>False</td>\n",
       "      <td>1.187087</td>\n",
       "      <td>3.139380</td>\n",
       "      <td>2</td>\n",
       "    </tr>\n",
       "    <tr>\n",
       "      <th>2</th>\n",
       "      <td>(monkey, ()</td>\n",
       "      <td>False</td>\n",
       "      <td>2.263403</td>\n",
       "      <td>8.523119</td>\n",
       "      <td>2</td>\n",
       "    </tr>\n",
       "    <tr>\n",
       "      <th>3</th>\n",
       "      <td>(arsenic, trioxide)</td>\n",
       "      <td>True</td>\n",
       "      <td>10.378924</td>\n",
       "      <td>60.635384</td>\n",
       "      <td>2</td>\n",
       "    </tr>\n",
       "    <tr>\n",
       "      <th>4</th>\n",
       "      <td>(of, arsenic)</td>\n",
       "      <td>False</td>\n",
       "      <td>2.522915</td>\n",
       "      <td>19.107739</td>\n",
       "      <td>4</td>\n",
       "    </tr>\n",
       "    <tr>\n",
       "      <th>5</th>\n",
       "      <td>(,, similar)</td>\n",
       "      <td>False</td>\n",
       "      <td>-0.347627</td>\n",
       "      <td>0.845113</td>\n",
       "      <td>5</td>\n",
       "    </tr>\n",
       "    <tr>\n",
       "      <th>6</th>\n",
       "      <td>(and, secretion)</td>\n",
       "      <td>False</td>\n",
       "      <td>1.365367</td>\n",
       "      <td>15.650506</td>\n",
       "      <td>11</td>\n",
       "    </tr>\n",
       "    <tr>\n",
       "      <th>7</th>\n",
       "      <td>(,, implicate)</td>\n",
       "      <td>False</td>\n",
       "      <td>0.638141</td>\n",
       "      <td>2.443953</td>\n",
       "      <td>6</td>\n",
       "    </tr>\n",
       "    <tr>\n",
       "      <th>8</th>\n",
       "      <td>(dna, segment)</td>\n",
       "      <td>True</td>\n",
       "      <td>3.682576</td>\n",
       "      <td>16.446423</td>\n",
       "      <td>2</td>\n",
       "    </tr>\n",
       "    <tr>\n",
       "      <th>9</th>\n",
       "      <td>(redox, state)</td>\n",
       "      <td>True</td>\n",
       "      <td>6.409419</td>\n",
       "      <td>43.953821</td>\n",
       "      <td>3</td>\n",
       "    </tr>\n",
       "    <tr>\n",
       "      <th>10</th>\n",
       "      <td>(process, require)</td>\n",
       "      <td>False</td>\n",
       "      <td>2.929895</td>\n",
       "      <td>11.976459</td>\n",
       "      <td>2</td>\n",
       "    </tr>\n",
       "    <tr>\n",
       "      <th>11</th>\n",
       "      <td>(non-antigen-selected, human)</td>\n",
       "      <td>True</td>\n",
       "      <td>4.976748</td>\n",
       "      <td>27.102738</td>\n",
       "      <td>2</td>\n",
       "    </tr>\n",
       "    <tr>\n",
       "      <th>12</th>\n",
       "      <td>(normal, monocyte)</td>\n",
       "      <td>True</td>\n",
       "      <td>1.669643</td>\n",
       "      <td>5.173773</td>\n",
       "      <td>2</td>\n",
       "    </tr>\n",
       "    <tr>\n",
       "      <th>13</th>\n",
       "      <td>(other, intracellular)</td>\n",
       "      <td>False</td>\n",
       "      <td>2.681601</td>\n",
       "      <td>10.560838</td>\n",
       "      <td>2</td>\n",
       "    </tr>\n",
       "    <tr>\n",
       "      <th>14</th>\n",
       "      <td>(,, dibutyryl)</td>\n",
       "      <td>False</td>\n",
       "      <td>2.295750</td>\n",
       "      <td>12.561360</td>\n",
       "      <td>3</td>\n",
       "    </tr>\n",
       "    <tr>\n",
       "      <th>15</th>\n",
       "      <td>(bruton, 's)</td>\n",
       "      <td>True</td>\n",
       "      <td>7.739867</td>\n",
       "      <td>43.739229</td>\n",
       "      <td>2</td>\n",
       "    </tr>\n",
       "    <tr>\n",
       "      <th>16</th>\n",
       "      <td>(into, the)</td>\n",
       "      <td>False</td>\n",
       "      <td>1.946253</td>\n",
       "      <td>199.778295</td>\n",
       "      <td>80</td>\n",
       "    </tr>\n",
       "    <tr>\n",
       "      <th>17</th>\n",
       "      <td>(bovine, leucocyte)</td>\n",
       "      <td>True</td>\n",
       "      <td>8.587165</td>\n",
       "      <td>46.875741</td>\n",
       "      <td>2</td>\n",
       "    </tr>\n",
       "    <tr>\n",
       "      <th>18</th>\n",
       "      <td>(nearly, identical)</td>\n",
       "      <td>False</td>\n",
       "      <td>7.270360</td>\n",
       "      <td>38.525466</td>\n",
       "      <td>2</td>\n",
       "    </tr>\n",
       "    <tr>\n",
       "      <th>19</th>\n",
       "      <td>(and, atopic)</td>\n",
       "      <td>False</td>\n",
       "      <td>2.049704</td>\n",
       "      <td>10.131690</td>\n",
       "      <td>3</td>\n",
       "    </tr>\n",
       "  </tbody>\n",
       "</table>\n",
       "</div>"
      ],
      "text/plain": [
       "                           bigram  in_concept        pmi          ll  freq\n",
       "0                  (into, murine)       False   3.319521   14.217649     2\n",
       "1                   (immunity, ,)       False   1.187087    3.139380     2\n",
       "2                     (monkey, ()       False   2.263403    8.523119     2\n",
       "3             (arsenic, trioxide)        True  10.378924   60.635384     2\n",
       "4                   (of, arsenic)       False   2.522915   19.107739     4\n",
       "5                    (,, similar)       False  -0.347627    0.845113     5\n",
       "6                (and, secretion)       False   1.365367   15.650506    11\n",
       "7                  (,, implicate)       False   0.638141    2.443953     6\n",
       "8                  (dna, segment)        True   3.682576   16.446423     2\n",
       "9                  (redox, state)        True   6.409419   43.953821     3\n",
       "10             (process, require)       False   2.929895   11.976459     2\n",
       "11  (non-antigen-selected, human)        True   4.976748   27.102738     2\n",
       "12             (normal, monocyte)        True   1.669643    5.173773     2\n",
       "13         (other, intracellular)       False   2.681601   10.560838     2\n",
       "14                 (,, dibutyryl)       False   2.295750   12.561360     3\n",
       "15                   (bruton, 's)        True   7.739867   43.739229     2\n",
       "16                    (into, the)       False   1.946253  199.778295    80\n",
       "17            (bovine, leucocyte)        True   8.587165   46.875741     2\n",
       "18            (nearly, identical)       False   7.270360   38.525466     2\n",
       "19                  (and, atopic)       False   2.049704   10.131690     3"
      ]
     },
     "execution_count": 34,
     "metadata": {},
     "output_type": "execute_result"
    }
   ],
   "source": [
    "data.head(20)"
   ]
  },
  {
   "cell_type": "code",
   "execution_count": 35,
   "metadata": {},
   "outputs": [
    {
     "data": {
      "text/plain": [
       "<matplotlib.axes._subplots.AxesSubplot at 0x7fd7c97245c0>"
      ]
     },
     "execution_count": 35,
     "metadata": {},
     "output_type": "execute_result"
    },
    {
     "data": {
      "image/png": "[encoded data removed]",
      "text/plain": [
       "<Figure size 432x288 with 1 Axes>"
      ]
     },
     "metadata": {},
     "output_type": "display_data"
    }
   ],
   "source": [
    "import seaborn as sns\n",
    "sns.boxplot(x='in_concept', y='pmi', data=data, showfliers=False)"
   ]
  },
  {
   "cell_type": "code",
   "execution_count": 36,
   "metadata": {},
   "outputs": [
    {
     "data": {
      "text/plain": [
       "<matplotlib.axes._subplots.AxesSubplot at 0x7fd7fc2bbcf8>"
      ]
     },
     "execution_count": 36,
     "metadata": {},
     "output_type": "execute_result"
    },
    {
     "data": {
      "image/png": "[encoded data removed]",
      "text/plain": [
       "<Figure size 432x288 with 1 Axes>"
      ]
     },
     "metadata": {},
     "output_type": "display_data"
    }
   ],
   "source": [
    "sns.boxplot(x='in_concept', y='ll', data=data, showfliers=False)"
   ]
  },
  {
   "cell_type": "code",
   "execution_count": 37,
   "metadata": {},
   "outputs": [],
   "source": [
    "# we can perform t-tests etc."
   ]
  },
  {
   "cell_type": "code",
   "execution_count": 38,
   "metadata": {},
   "outputs": [],
   "source": [
    "from scipy import stats"
   ]
  },
  {
   "cell_type": "code",
   "execution_count": 39,
   "metadata": {},
   "outputs": [
    {
     "data": {
      "text/html": [
       "<div>\n",
       "<style scoped>\n",
       "    .dataframe tbody tr th:only-of-type {\n",
       "        vertical-align: middle;\n",
       "    }\n",
       "\n",
       "    .dataframe tbody tr th {\n",
       "        vertical-align: top;\n",
       "    }\n",
       "\n",
       "    .dataframe thead th {\n",
       "        text-align: right;\n",
       "    }\n",
       "</style>\n",
       "<table border=\"1\" class=\"dataframe\">\n",
       "  <thead>\n",
       "    <tr style=\"text-align: right;\">\n",
       "      <th></th>\n",
       "      <th>U-val</th>\n",
       "      <th>tail</th>\n",
       "      <th>p-val</th>\n",
       "      <th>RBC</th>\n",
       "      <th>CLES</th>\n",
       "    </tr>\n",
       "  </thead>\n",
       "  <tbody>\n",
       "    <tr>\n",
       "      <th>MWU</th>\n",
       "      <td>213095110.5</td>\n",
       "      <td>two-sided</td>\n",
       "      <td>0.0</td>\n",
       "      <td>-0.546</td>\n",
       "      <td>0.773</td>\n",
       "    </tr>\n",
       "  </tbody>\n",
       "</table>\n",
       "</div>"
      ],
      "text/plain": [
       "           U-val       tail  p-val    RBC   CLES\n",
       "MWU  213095110.5  two-sided    0.0 -0.546  0.773"
      ]
     },
     "execution_count": 39,
     "metadata": {},
     "output_type": "execute_result"
    }
   ],
   "source": [
    "import pingouin\n",
    "pingouin.mwu(data[data['in_concept'] == True]['pmi'],\n",
    "             data[data['in_concept'] == False]['pmi'])"
   ]
  },
  {
   "cell_type": "code",
   "execution_count": 40,
   "metadata": {},
   "outputs": [
    {
     "data": {
      "text/html": [
       "<div>\n",
       "<style scoped>\n",
       "    .dataframe tbody tr th:only-of-type {\n",
       "        vertical-align: middle;\n",
       "    }\n",
       "\n",
       "    .dataframe tbody tr th {\n",
       "        vertical-align: top;\n",
       "    }\n",
       "\n",
       "    .dataframe thead th {\n",
       "        text-align: right;\n",
       "    }\n",
       "</style>\n",
       "<table border=\"1\" class=\"dataframe\">\n",
       "  <thead>\n",
       "    <tr style=\"text-align: right;\">\n",
       "      <th></th>\n",
       "      <th>bigram</th>\n",
       "      <th>in_concept</th>\n",
       "      <th>pmi</th>\n",
       "      <th>ll</th>\n",
       "      <th>freq</th>\n",
       "    </tr>\n",
       "  </thead>\n",
       "  <tbody>\n",
       "    <tr>\n",
       "      <th>14209</th>\n",
       "      <td>(nf-kappa, b)</td>\n",
       "      <td>True</td>\n",
       "      <td>4.989393</td>\n",
       "      <td>1.097984e+04</td>\n",
       "      <td>1077</td>\n",
       "    </tr>\n",
       "    <tr>\n",
       "      <th>27570</th>\n",
       "      <td>(t, cell)</td>\n",
       "      <td>True</td>\n",
       "      <td>3.769280</td>\n",
       "      <td>1.088198e+04</td>\n",
       "      <td>1575</td>\n",
       "    </tr>\n",
       "    <tr>\n",
       "      <th>10704</th>\n",
       "      <td>(transcription, factor)</td>\n",
       "      <td>True</td>\n",
       "      <td>4.508931</td>\n",
       "      <td>8.035224e+03</td>\n",
       "      <td>980</td>\n",
       "    </tr>\n",
       "    <tr>\n",
       "      <th>19160</th>\n",
       "      <td>(of, the)</td>\n",
       "      <td>True</td>\n",
       "      <td>1.517641</td>\n",
       "      <td>6.538910e+03</td>\n",
       "      <td>3705</td>\n",
       "    </tr>\n",
       "    <tr>\n",
       "      <th>9416</th>\n",
       "      <td>(cell, line)</td>\n",
       "      <td>True</td>\n",
       "      <td>3.814526</td>\n",
       "      <td>4.842576e+03</td>\n",
       "      <td>697</td>\n",
       "    </tr>\n",
       "    <tr>\n",
       "      <th>...</th>\n",
       "      <td>...</td>\n",
       "      <td>...</td>\n",
       "      <td>...</td>\n",
       "      <td>...</td>\n",
       "      <td>...</td>\n",
       "    </tr>\n",
       "    <tr>\n",
       "      <th>34960</th>\n",
       "      <td>(sufficient, ,)</td>\n",
       "      <td>False</td>\n",
       "      <td>-0.000756</td>\n",
       "      <td>1.780601e-06</td>\n",
       "      <td>2</td>\n",
       "    </tr>\n",
       "    <tr>\n",
       "      <th>355</th>\n",
       "      <td>(,, fibroblast)</td>\n",
       "      <td>False</td>\n",
       "      <td>-0.000756</td>\n",
       "      <td>1.780601e-06</td>\n",
       "      <td>2</td>\n",
       "    </tr>\n",
       "    <tr>\n",
       "      <th>30885</th>\n",
       "      <td>(cell, at)</td>\n",
       "      <td>False</td>\n",
       "      <td>0.000330</td>\n",
       "      <td>1.559469e-06</td>\n",
       "      <td>13</td>\n",
       "    </tr>\n",
       "    <tr>\n",
       "      <th>13306</th>\n",
       "      <td>(with, nf-kappa)</td>\n",
       "      <td>False</td>\n",
       "      <td>0.000212</td>\n",
       "      <td>4.532176e-07</td>\n",
       "      <td>9</td>\n",
       "    </tr>\n",
       "    <tr>\n",
       "      <th>12773</th>\n",
       "      <td>(high, and)</td>\n",
       "      <td>False</td>\n",
       "      <td>-0.000062</td>\n",
       "      <td>3.579771e-08</td>\n",
       "      <td>8</td>\n",
       "    </tr>\n",
       "  </tbody>\n",
       "</table>\n",
       "<p>37128 rows × 5 columns</p>\n",
       "</div>"
      ],
      "text/plain": [
       "                        bigram  in_concept       pmi            ll  freq\n",
       "14209            (nf-kappa, b)        True  4.989393  1.097984e+04  1077\n",
       "27570                (t, cell)        True  3.769280  1.088198e+04  1575\n",
       "10704  (transcription, factor)        True  4.508931  8.035224e+03   980\n",
       "19160                (of, the)        True  1.517641  6.538910e+03  3705\n",
       "9416              (cell, line)        True  3.814526  4.842576e+03   697\n",
       "...                        ...         ...       ...           ...   ...\n",
       "34960          (sufficient, ,)       False -0.000756  1.780601e-06     2\n",
       "355            (,, fibroblast)       False -0.000756  1.780601e-06     2\n",
       "30885               (cell, at)       False  0.000330  1.559469e-06    13\n",
       "13306         (with, nf-kappa)       False  0.000212  4.532176e-07     9\n",
       "12773              (high, and)       False -0.000062  3.579771e-08     8\n",
       "\n",
       "[37128 rows x 5 columns]"
      ]
     },
     "execution_count": 40,
     "metadata": {},
     "output_type": "execute_result"
    }
   ],
   "source": [
    "data.sort_values('ll', ascending=False)"
   ]
  },
  {
   "cell_type": "markdown",
   "metadata": {},
   "source": [
    "Conclusion: concept bigrams _do_ have higher association."
   ]
  },
  {
   "cell_type": "markdown",
   "metadata": {},
   "source": [
    "## Question 2: How does it look for bigrams in DC's?"
   ]
  },
  {
   "cell_type": "code",
   "execution_count": 41,
   "metadata": {},
   "outputs": [
    {
     "name": "stdout",
     "output_type": "stream",
     "text": [
      "Retrieving gold standard concepts ... Skipped 0 concepts not bounded at tokens boundaries.\n"
     ]
    }
   ],
   "source": [
    "disc_concepts = conceptstats.gold_standard_concepts(corpus, continuous=False,\n",
    "                                                    discontinuous=True)\n",
    "dc_bigrams = {bigram for concept in disc_concepts for bigram in nltk.bigrams(concept)}"
   ]
  },
  {
   "cell_type": "code",
   "execution_count": 42,
   "metadata": {},
   "outputs": [],
   "source": [
    "import pandas as pd\n",
    "\n",
    "# now, loop over all bigrams in the n-gram model, measure their association\n",
    "# and note whether they occur in a concept or not\n",
    "\n",
    "data_dict = {'bigram': [], 'type': [],  'pmi': [], 'll': [], 'freq': []}\n",
    "\n",
    "for bigram_pattern, count in model.iterate(2, threshold=FREQ_THRESHOLD,\n",
    "                                           encoded_patterns=True):\n",
    "    \n",
    "    bigram = model.decode_pattern(bigram_pattern)\n",
    "    data_dict['bigram'].append(bigram)\n",
    "    \n",
    "    data_dict['freq'].append(count)\n",
    "    \n",
    "    word_a = bigram_pattern[0]\n",
    "    word_b = bigram_pattern[1]\n",
    "    contingency_table = model.contingency_table(word_a, word_b)\n",
    "    pmi = conceptstats.pointwise_mutual_information(contingency_table)\n",
    "    data_dict['pmi'].append(pmi)\n",
    "    ll = conceptstats.log_likelihood_ratio(contingency_table)\n",
    "    data_dict['ll'].append(ll)\n",
    "    \n",
    "    if bigram in concept_bigrams:\n",
    "        if bigram in dc_bigrams:\n",
    "            bigram_type = 'both'\n",
    "        else:\n",
    "            bigram_type = 'only_CC'\n",
    "    elif bigram in dc_bigrams:\n",
    "        bigram_type = 'only_DC'\n",
    "    else:\n",
    "        bigram_type = 'neither'\n",
    "    \n",
    "    data_dict['type'].append(bigram_type)\n",
    "\n",
    "\n",
    "data = pd.DataFrame(data_dict)"
   ]
  },
  {
   "cell_type": "code",
   "execution_count": 43,
   "metadata": {},
   "outputs": [
    {
     "data": {
      "text/plain": [
       "<matplotlib.axes._subplots.AxesSubplot at 0x7fd7d5cdf390>"
      ]
     },
     "execution_count": 43,
     "metadata": {},
     "output_type": "execute_result"
    },
    {
     "data": {
      "image/png": "[encoded data removed]",
      "text/plain": [
       "<Figure size 432x288 with 1 Axes>"
      ]
     },
     "metadata": {},
     "output_type": "display_data"
    }
   ],
   "source": [
    "sns.boxplot(x='type', y='pmi', data=data, showfliers=False)"
   ]
  },
  {
   "cell_type": "code",
   "execution_count": 44,
   "metadata": {},
   "outputs": [
    {
     "data": {
      "text/plain": [
       "<matplotlib.axes._subplots.AxesSubplot at 0x7fd7c9217b00>"
      ]
     },
     "execution_count": 44,
     "metadata": {},
     "output_type": "execute_result"
    },
    {
     "data": {
      "image/png": "[encoded data removed]",
      "text/plain": [
       "<Figure size 432x288 with 1 Axes>"
      ]
     },
     "metadata": {},
     "output_type": "display_data"
    }
   ],
   "source": [
    "sns.boxplot(x='type', y='ll', data=data, showfliers=False)"
   ]
  },
  {
   "cell_type": "code",
   "execution_count": 45,
   "metadata": {},
   "outputs": [
    {
     "data": {
      "text/html": [
       "<div>\n",
       "<style scoped>\n",
       "    .dataframe tbody tr th:only-of-type {\n",
       "        vertical-align: middle;\n",
       "    }\n",
       "\n",
       "    .dataframe tbody tr th {\n",
       "        vertical-align: top;\n",
       "    }\n",
       "\n",
       "    .dataframe thead th {\n",
       "        text-align: right;\n",
       "    }\n",
       "</style>\n",
       "<table border=\"1\" class=\"dataframe\">\n",
       "  <thead>\n",
       "    <tr style=\"text-align: right;\">\n",
       "      <th></th>\n",
       "      <th>Source</th>\n",
       "      <th>ddof1</th>\n",
       "      <th>H</th>\n",
       "      <th>p-unc</th>\n",
       "    </tr>\n",
       "  </thead>\n",
       "  <tbody>\n",
       "    <tr>\n",
       "      <th>Kruskal</th>\n",
       "      <td>type</td>\n",
       "      <td>3</td>\n",
       "      <td>5329.757</td>\n",
       "      <td>0.0</td>\n",
       "    </tr>\n",
       "  </tbody>\n",
       "</table>\n",
       "</div>"
      ],
      "text/plain": [
       "        Source  ddof1         H  p-unc\n",
       "Kruskal   type      3  5329.757    0.0"
      ]
     },
     "execution_count": 45,
     "metadata": {},
     "output_type": "execute_result"
    }
   ],
   "source": [
    "pingouin.kruskal(data, 'll', 'type')"
   ]
  },
  {
   "cell_type": "code",
   "execution_count": 46,
   "metadata": {},
   "outputs": [
    {
     "data": {
      "text/plain": [
       "43"
      ]
     },
     "execution_count": 46,
     "metadata": {},
     "output_type": "execute_result"
    }
   ],
   "source": [
    "# However, notice that\n",
    "len(data[data['type'] == 'only_DC'])"
   ]
  },
  {
   "cell_type": "code",
   "execution_count": 47,
   "metadata": {},
   "outputs": [
    {
     "data": {
      "text/plain": [
       "936"
      ]
     },
     "execution_count": 47,
     "metadata": {},
     "output_type": "execute_result"
    }
   ],
   "source": [
    "# compared to e.g.\n",
    "len(data[data['type'] == 'both'])"
   ]
  },
  {
   "cell_type": "markdown",
   "metadata": {},
   "source": [
    "## Question 3: What is the association across the gap?"
   ]
  },
  {
   "cell_type": "code",
   "execution_count": 48,
   "metadata": {},
   "outputs": [],
   "source": [
    "from collections import defaultdict\n",
    "\n",
    "gap_bigrams = defaultdict(list)\n",
    "cont_bigrams = defaultdict(list)\n",
    "dc_sample = {dc for doc in corpus for dc in doc.get_annotations(anno.DiscontinuousConcept)}\n",
    "for dc in dc_sample:\n",
    "    tokens = dc.get_tokens()\n",
    "    norm_concept = dc.normalized_concept()\n",
    "    for i in range(len(tokens) - 1):\n",
    "        t1, t2 = tokens[i], tokens[i+1]\n",
    "        bigram = norm_concept[i:i + 2]\n",
    "        if t2.span[0] - t1.span[-1] > 2:\n",
    "            gap_bigrams[bigram].append(dc)\n",
    "        else:\n",
    "            cont_bigrams[bigram].append(dc)"
   ]
  },
  {
   "cell_type": "code",
   "execution_count": 49,
   "metadata": {},
   "outputs": [],
   "source": [
    "data_dict = {'bigram': [], 'freq': [], 'pmi': [], 'll': [], 'type': []}\n",
    "\n",
    "all_bigrams = set(gap_bigrams.keys()).union(set(cont_bigrams.keys()))\n",
    "for bigram in all_bigrams:\n",
    "    # skip if not frequent enough\n",
    "    if model.freq(bigram) < FREQ_THRESHOLD:\n",
    "        continue\n",
    "\n",
    "    data_dict['bigram'].append(bigram)\n",
    "    data_dict['freq'].append(model.freq(bigram))\n",
    "\n",
    "    contingency_table = model.contingency_table(bigram[0], bigram[1])\n",
    "    pmi = conceptstats.pointwise_mutual_information(contingency_table)\n",
    "    data_dict['pmi'].append(pmi)\n",
    "    ll = conceptstats.log_likelihood_ratio(contingency_table)\n",
    "    data_dict['ll'].append(ll)\n",
    "\n",
    "    # how it occurs\n",
    "    if bigram in gap_bigrams:\n",
    "        if bigram in cont_bigrams: \n",
    "            type_ = 'both'\n",
    "        else:\n",
    "            type_ = 'only_gap'\n",
    "    else:\n",
    "        type_ = 'only_cont'\n",
    "    data_dict['type'].append(type_)\n",
    "\n",
    "data = pd.DataFrame(data_dict)"
   ]
  },
  {
   "cell_type": "markdown",
   "metadata": {},
   "source": [
    "### NOTE\n",
    "\n",
    "That a bigram occurs as `only_gap` means that it occurs only in gap position for DC's. However, those bigrams can just as well occur in CC's as well, thereby getting a high association."
   ]
  },
  {
   "cell_type": "code",
   "execution_count": 50,
   "metadata": {},
   "outputs": [
    {
     "data": {
      "text/plain": [
       "<matplotlib.axes._subplots.AxesSubplot at 0x7fd7eaa9d710>"
      ]
     },
     "execution_count": 50,
     "metadata": {},
     "output_type": "execute_result"
    },
    {
     "data": {
      "image/png": "[encoded data removed]",
      "text/plain": [
       "<Figure size 432x288 with 1 Axes>"
      ]
     },
     "metadata": {},
     "output_type": "display_data"
    }
   ],
   "source": [
    "sns.boxplot(x='type', y='pmi', data=data, showfliers=False)"
   ]
  },
  {
   "cell_type": "code",
   "execution_count": 52,
   "metadata": {},
   "outputs": [
    {
     "data": {
      "text/plain": [
       "362"
      ]
     },
     "execution_count": 52,
     "metadata": {},
     "output_type": "execute_result"
    }
   ],
   "source": [
    "len(data[data['type'] == 'only_gap'])"
   ]
  },
  {
   "cell_type": "code",
   "execution_count": 26,
   "metadata": {},
   "outputs": [
    {
     "data": {
      "text/html": [
       "<div>\n",
       "<style scoped>\n",
       "    .dataframe tbody tr th:only-of-type {\n",
       "        vertical-align: middle;\n",
       "    }\n",
       "\n",
       "    .dataframe tbody tr th {\n",
       "        vertical-align: top;\n",
       "    }\n",
       "\n",
       "    .dataframe thead th {\n",
       "        text-align: right;\n",
       "    }\n",
       "</style>\n",
       "<table border=\"1\" class=\"dataframe\">\n",
       "  <thead>\n",
       "    <tr style=\"text-align: right;\">\n",
       "      <th></th>\n",
       "      <th>Source</th>\n",
       "      <th>ddof1</th>\n",
       "      <th>H</th>\n",
       "      <th>p-unc</th>\n",
       "    </tr>\n",
       "  </thead>\n",
       "  <tbody>\n",
       "    <tr>\n",
       "      <th>Kruskal</th>\n",
       "      <td>type</td>\n",
       "      <td>2</td>\n",
       "      <td>5.037</td>\n",
       "      <td>0.080566</td>\n",
       "    </tr>\n",
       "  </tbody>\n",
       "</table>\n",
       "</div>"
      ],
      "text/plain": [
       "        Source  ddof1      H     p-unc\n",
       "Kruskal   type      2  5.037  0.080566"
      ]
     },
     "execution_count": 26,
     "metadata": {},
     "output_type": "execute_result"
    }
   ],
   "source": [
    "pingouin.kruskal(data, 'pmi', 'type')"
   ]
  },
  {
   "cell_type": "code",
   "execution_count": 27,
   "metadata": {},
   "outputs": [
    {
     "data": {
      "text/plain": [
       "<matplotlib.axes._subplots.AxesSubplot at 0x7fc484294a90>"
      ]
     },
     "execution_count": 27,
     "metadata": {},
     "output_type": "execute_result"
    },
    {
     "data": {
      "image/png": "[encoded data removed]",
      "text/plain": [
       "<Figure size 432x288 with 1 Axes>"
      ]
     },
     "metadata": {},
     "output_type": "display_data"
    }
   ],
   "source": [
    "sns.boxplot(x='type', y='ll', data=data, showfliers=False)"
   ]
  },
  {
   "cell_type": "code",
   "execution_count": 28,
   "metadata": {},
   "outputs": [
    {
     "data": {
      "text/html": [
       "<div>\n",
       "<style scoped>\n",
       "    .dataframe tbody tr th:only-of-type {\n",
       "        vertical-align: middle;\n",
       "    }\n",
       "\n",
       "    .dataframe tbody tr th {\n",
       "        vertical-align: top;\n",
       "    }\n",
       "\n",
       "    .dataframe thead th {\n",
       "        text-align: right;\n",
       "    }\n",
       "</style>\n",
       "<table border=\"1\" class=\"dataframe\">\n",
       "  <thead>\n",
       "    <tr style=\"text-align: right;\">\n",
       "      <th></th>\n",
       "      <th>bigram</th>\n",
       "      <th>freq</th>\n",
       "      <th>pmi</th>\n",
       "      <th>ll</th>\n",
       "      <th>type</th>\n",
       "    </tr>\n",
       "  </thead>\n",
       "  <tbody>\n",
       "    <tr>\n",
       "      <th>397</th>\n",
       "      <td>(tetanus, toxoid)</td>\n",
       "      <td>5</td>\n",
       "      <td>10.763770</td>\n",
       "      <td>133.381513</td>\n",
       "      <td>only_cont</td>\n",
       "    </tr>\n",
       "    <tr>\n",
       "      <th>335</th>\n",
       "      <td>(acetyl, transferase)</td>\n",
       "      <td>9</td>\n",
       "      <td>10.042452</td>\n",
       "      <td>203.659682</td>\n",
       "      <td>only_cont</td>\n",
       "    </tr>\n",
       "    <tr>\n",
       "      <th>478</th>\n",
       "      <td>(squirrel, monkey)</td>\n",
       "      <td>15</td>\n",
       "      <td>9.625153</td>\n",
       "      <td>316.760035</td>\n",
       "      <td>only_cont</td>\n",
       "    </tr>\n",
       "    <tr>\n",
       "      <th>161</th>\n",
       "      <td>(k+, channel)</td>\n",
       "      <td>10</td>\n",
       "      <td>9.598766</td>\n",
       "      <td>212.262071</td>\n",
       "      <td>only_cont</td>\n",
       "    </tr>\n",
       "    <tr>\n",
       "      <th>592</th>\n",
       "      <td>(leucine, zipper)</td>\n",
       "      <td>6</td>\n",
       "      <td>9.531626</td>\n",
       "      <td>128.034776</td>\n",
       "      <td>only_cont</td>\n",
       "    </tr>\n",
       "    <tr>\n",
       "      <th>...</th>\n",
       "      <td>...</td>\n",
       "      <td>...</td>\n",
       "      <td>...</td>\n",
       "      <td>...</td>\n",
       "      <td>...</td>\n",
       "    </tr>\n",
       "    <tr>\n",
       "      <th>9</th>\n",
       "      <td>(lymphocyte, cell)</td>\n",
       "      <td>6</td>\n",
       "      <td>-0.784337</td>\n",
       "      <td>5.784182</td>\n",
       "      <td>only_cont</td>\n",
       "    </tr>\n",
       "    <tr>\n",
       "      <th>108</th>\n",
       "      <td>(a, ()</td>\n",
       "      <td>36</td>\n",
       "      <td>-0.929323</td>\n",
       "      <td>45.766798</td>\n",
       "      <td>only_cont</td>\n",
       "    </tr>\n",
       "    <tr>\n",
       "      <th>508</th>\n",
       "      <td>((, a)</td>\n",
       "      <td>24</td>\n",
       "      <td>-1.321365</td>\n",
       "      <td>72.986722</td>\n",
       "      <td>only_cont</td>\n",
       "    </tr>\n",
       "    <tr>\n",
       "      <th>57</th>\n",
       "      <td>(t, ()</td>\n",
       "      <td>5</td>\n",
       "      <td>-1.495857</td>\n",
       "      <td>23.906769</td>\n",
       "      <td>only_cont</td>\n",
       "    </tr>\n",
       "    <tr>\n",
       "      <th>25</th>\n",
       "      <td>(a, ))</td>\n",
       "      <td>15</td>\n",
       "      <td>-1.773017</td>\n",
       "      <td>101.800590</td>\n",
       "      <td>only_cont</td>\n",
       "    </tr>\n",
       "  </tbody>\n",
       "</table>\n",
       "<p>355 rows × 5 columns</p>\n",
       "</div>"
      ],
      "text/plain": [
       "                    bigram  freq        pmi          ll       type\n",
       "397      (tetanus, toxoid)     5  10.763770  133.381513  only_cont\n",
       "335  (acetyl, transferase)     9  10.042452  203.659682  only_cont\n",
       "478     (squirrel, monkey)    15   9.625153  316.760035  only_cont\n",
       "161          (k+, channel)    10   9.598766  212.262071  only_cont\n",
       "592      (leucine, zipper)     6   9.531626  128.034776  only_cont\n",
       "..                     ...   ...        ...         ...        ...\n",
       "9       (lymphocyte, cell)     6  -0.784337    5.784182  only_cont\n",
       "108                 (a, ()    36  -0.929323   45.766798  only_cont\n",
       "508                 ((, a)    24  -1.321365   72.986722  only_cont\n",
       "57                  (t, ()     5  -1.495857   23.906769  only_cont\n",
       "25                  (a, ))    15  -1.773017  101.800590  only_cont\n",
       "\n",
       "[355 rows x 5 columns]"
      ]
     },
     "execution_count": 28,
     "metadata": {},
     "output_type": "execute_result"
    }
   ],
   "source": [
    "data[data['type'] == 'only_cont'].sort_values(['pmi', 'll'], ascending=False)"
   ]
  },
  {
   "cell_type": "code",
   "execution_count": 29,
   "metadata": {},
   "outputs": [
    {
     "data": {
      "text/plain": [
       "<seaborn.axisgrid.FacetGrid at 0x7fc484305c88>"
      ]
     },
     "execution_count": 29,
     "metadata": {},
     "output_type": "execute_result"
    },
    {
     "data": {
      "image/png": "[encoded data removed]",
      "text/plain": [
       "<Figure size 360x360 with 1 Axes>"
      ]
     },
     "metadata": {},
     "output_type": "display_data"
    }
   ],
   "source": [
    "sns.lmplot('freq', 'll', data)"
   ]
  },
  {
   "cell_type": "markdown",
   "metadata": {},
   "source": [
    "## Question 4: What is the full-term unithood?"
   ]
  },
  {
   "cell_type": "code",
   "execution_count": 53,
   "metadata": {},
   "outputs": [],
   "source": [
    "all_concepts = disc_concepts.union(cont_concepts)"
   ]
  },
  {
   "cell_type": "code",
   "execution_count": 54,
   "metadata": {},
   "outputs": [],
   "source": [
    "data_dict = {'concept': [], 'type': [],  'pmi_nl': [], 'tc': [], 'freq': [], 'len': []}\n",
    "\n",
    "for concept in all_concepts:\n",
    "    \n",
    "    if model[concept] < FREQ_THRESHOLD:\n",
    "        continue\n",
    "    \n",
    "    data_dict['concept'].append(concept)\n",
    "    \n",
    "    data_dict['freq'].append(model[concept])\n",
    "    \n",
    "    if concept in disc_concepts:\n",
    "        if concept in cont_concepts:\n",
    "            concept_type = 'both'\n",
    "        else:\n",
    "            concept_type = 'only_DC'\n",
    "    else:\n",
    "        concept_type = 'only_CC'\n",
    "    data_dict['type'].append(concept_type)\n",
    "    \n",
    "    data_dict['pmi_nl'].append(conceptstats.length_normalized_pmi(concept, model))\n",
    "    data_dict['tc'].append(conceptstats.term_coherence(concept, model))\n",
    "    \n",
    "    data_dict['len'].append(len(concept))\n",
    "\n",
    "\n",
    "data = pd.DataFrame(data_dict)"
   ]
  },
  {
   "cell_type": "code",
   "execution_count": 55,
   "metadata": {},
   "outputs": [
    {
     "data": {
      "text/html": [
       "<div>\n",
       "<style scoped>\n",
       "    .dataframe tbody tr th:only-of-type {\n",
       "        vertical-align: middle;\n",
       "    }\n",
       "\n",
       "    .dataframe tbody tr th {\n",
       "        vertical-align: top;\n",
       "    }\n",
       "\n",
       "    .dataframe thead th {\n",
       "        text-align: right;\n",
       "    }\n",
       "</style>\n",
       "<table border=\"1\" class=\"dataframe\">\n",
       "  <thead>\n",
       "    <tr style=\"text-align: right;\">\n",
       "      <th></th>\n",
       "      <th>concept</th>\n",
       "      <th>type</th>\n",
       "      <th>pmi_nl</th>\n",
       "      <th>tc</th>\n",
       "      <th>freq</th>\n",
       "      <th>len</th>\n",
       "    </tr>\n",
       "  </thead>\n",
       "  <tbody>\n",
       "    <tr>\n",
       "      <th>3661</th>\n",
       "      <td>(nf-kappa, b)</td>\n",
       "      <td>only_CC</td>\n",
       "      <td>4.990988</td>\n",
       "      <td>1.797796</td>\n",
       "      <td>1077</td>\n",
       "      <td>2</td>\n",
       "    </tr>\n",
       "    <tr>\n",
       "      <th>6187</th>\n",
       "      <td>(peripheral, blood)</td>\n",
       "      <td>only_CC</td>\n",
       "      <td>6.668685</td>\n",
       "      <td>1.742202</td>\n",
       "      <td>257</td>\n",
       "      <td>2</td>\n",
       "    </tr>\n",
       "    <tr>\n",
       "      <th>6025</th>\n",
       "      <td>(mobility, shift)</td>\n",
       "      <td>only_CC</td>\n",
       "      <td>7.380431</td>\n",
       "      <td>1.694980</td>\n",
       "      <td>148</td>\n",
       "      <td>2</td>\n",
       "    </tr>\n",
       "    <tr>\n",
       "      <th>1708</th>\n",
       "      <td>(electrophoretic, mobility)</td>\n",
       "      <td>only_CC</td>\n",
       "      <td>7.650202</td>\n",
       "      <td>1.640819</td>\n",
       "      <td>118</td>\n",
       "      <td>2</td>\n",
       "    </tr>\n",
       "    <tr>\n",
       "      <th>1854</th>\n",
       "      <td>(12-myristate, 13-acetate)</td>\n",
       "      <td>only_CC</td>\n",
       "      <td>8.795946</td>\n",
       "      <td>1.522634</td>\n",
       "      <td>48</td>\n",
       "      <td>2</td>\n",
       "    </tr>\n",
       "    <tr>\n",
       "      <th>2108</th>\n",
       "      <td>(zinc, finger)</td>\n",
       "      <td>only_CC</td>\n",
       "      <td>8.663115</td>\n",
       "      <td>1.512410</td>\n",
       "      <td>52</td>\n",
       "      <td>2</td>\n",
       "    </tr>\n",
       "    <tr>\n",
       "      <th>793</th>\n",
       "      <td>(transcription, factor)</td>\n",
       "      <td>both</td>\n",
       "      <td>4.509866</td>\n",
       "      <td>1.435554</td>\n",
       "      <td>980</td>\n",
       "      <td>2</td>\n",
       "    </tr>\n",
       "    <tr>\n",
       "      <th>6744</th>\n",
       "      <td>(bone, marrow)</td>\n",
       "      <td>only_CC</td>\n",
       "      <td>8.819017</td>\n",
       "      <td>1.404783</td>\n",
       "      <td>43</td>\n",
       "      <td>2</td>\n",
       "    </tr>\n",
       "    <tr>\n",
       "      <th>6846</th>\n",
       "      <td>(phorbol, ester)</td>\n",
       "      <td>only_CC</td>\n",
       "      <td>7.391776</td>\n",
       "      <td>1.395424</td>\n",
       "      <td>119</td>\n",
       "      <td>2</td>\n",
       "    </tr>\n",
       "    <tr>\n",
       "      <th>5325</th>\n",
       "      <td>(electrophoretic, mobility, shift)</td>\n",
       "      <td>only_CC</td>\n",
       "      <td>7.555339</td>\n",
       "      <td>1.333979</td>\n",
       "      <td>110</td>\n",
       "      <td>3</td>\n",
       "    </tr>\n",
       "    <tr>\n",
       "      <th>7057</th>\n",
       "      <td>(long, terminal, repeat)</td>\n",
       "      <td>only_CC</td>\n",
       "      <td>7.591147</td>\n",
       "      <td>1.258394</td>\n",
       "      <td>99</td>\n",
       "      <td>3</td>\n",
       "    </tr>\n",
       "    <tr>\n",
       "      <th>1458</th>\n",
       "      <td>(lymph, node)</td>\n",
       "      <td>only_CC</td>\n",
       "      <td>9.967909</td>\n",
       "      <td>1.255273</td>\n",
       "      <td>18</td>\n",
       "      <td>2</td>\n",
       "    </tr>\n",
       "    <tr>\n",
       "      <th>5310</th>\n",
       "      <td>(chloramphenicol, acetyltransferase)</td>\n",
       "      <td>only_CC</td>\n",
       "      <td>8.800798</td>\n",
       "      <td>1.170119</td>\n",
       "      <td>34</td>\n",
       "      <td>2</td>\n",
       "    </tr>\n",
       "    <tr>\n",
       "      <th>4864</th>\n",
       "      <td>(cyclic, amp)</td>\n",
       "      <td>only_CC</td>\n",
       "      <td>9.277528</td>\n",
       "      <td>1.145852</td>\n",
       "      <td>25</td>\n",
       "      <td>2</td>\n",
       "    </tr>\n",
       "    <tr>\n",
       "      <th>993</th>\n",
       "      <td>(natural, killer)</td>\n",
       "      <td>only_CC</td>\n",
       "      <td>8.460087</td>\n",
       "      <td>1.145823</td>\n",
       "      <td>42</td>\n",
       "      <td>2</td>\n",
       "    </tr>\n",
       "    <tr>\n",
       "      <th>625</th>\n",
       "      <td>(t, cell)</td>\n",
       "      <td>both</td>\n",
       "      <td>3.769901</td>\n",
       "      <td>1.135449</td>\n",
       "      <td>1575</td>\n",
       "      <td>2</td>\n",
       "    </tr>\n",
       "    <tr>\n",
       "      <th>4906</th>\n",
       "      <td>(herpes, simplex)</td>\n",
       "      <td>only_CC</td>\n",
       "      <td>9.863101</td>\n",
       "      <td>1.130683</td>\n",
       "      <td>17</td>\n",
       "      <td>2</td>\n",
       "    </tr>\n",
       "    <tr>\n",
       "      <th>5400</th>\n",
       "      <td>(pyrrolidine, dithiocarbamate)</td>\n",
       "      <td>only_CC</td>\n",
       "      <td>9.758293</td>\n",
       "      <td>1.129745</td>\n",
       "      <td>18</td>\n",
       "      <td>2</td>\n",
       "    </tr>\n",
       "    <tr>\n",
       "      <th>6471</th>\n",
       "      <td>(situ, hybridization)</td>\n",
       "      <td>only_CC</td>\n",
       "      <td>8.435617</td>\n",
       "      <td>1.104869</td>\n",
       "      <td>40</td>\n",
       "      <td>2</td>\n",
       "    </tr>\n",
       "    <tr>\n",
       "      <th>3545</th>\n",
       "      <td>(nitric, oxide)</td>\n",
       "      <td>only_CC</td>\n",
       "      <td>9.814548</td>\n",
       "      <td>1.100928</td>\n",
       "      <td>17</td>\n",
       "      <td>2</td>\n",
       "    </tr>\n",
       "    <tr>\n",
       "      <th>5807</th>\n",
       "      <td>(heat, shock)</td>\n",
       "      <td>only_CC</td>\n",
       "      <td>8.725055</td>\n",
       "      <td>1.089369</td>\n",
       "      <td>33</td>\n",
       "      <td>2</td>\n",
       "    </tr>\n",
       "    <tr>\n",
       "      <th>7030</th>\n",
       "      <td>(flow, cytometry)</td>\n",
       "      <td>only_CC</td>\n",
       "      <td>9.250204</td>\n",
       "      <td>1.086068</td>\n",
       "      <td>24</td>\n",
       "      <td>2</td>\n",
       "    </tr>\n",
       "    <tr>\n",
       "      <th>6241</th>\n",
       "      <td>(germinal, center)</td>\n",
       "      <td>only_CC</td>\n",
       "      <td>9.528051</td>\n",
       "      <td>1.084192</td>\n",
       "      <td>20</td>\n",
       "      <td>2</td>\n",
       "    </tr>\n",
       "    <tr>\n",
       "      <th>4900</th>\n",
       "      <td>(breast, cancer)</td>\n",
       "      <td>only_CC</td>\n",
       "      <td>8.117351</td>\n",
       "      <td>1.075994</td>\n",
       "      <td>48</td>\n",
       "      <td>2</td>\n",
       "    </tr>\n",
       "    <tr>\n",
       "      <th>5968</th>\n",
       "      <td>(hydrogen, peroxide)</td>\n",
       "      <td>only_CC</td>\n",
       "      <td>9.967909</td>\n",
       "      <td>1.002862</td>\n",
       "      <td>14</td>\n",
       "      <td>2</td>\n",
       "    </tr>\n",
       "    <tr>\n",
       "      <th>1531</th>\n",
       "      <td>(amino, acid)</td>\n",
       "      <td>only_CC</td>\n",
       "      <td>7.005853</td>\n",
       "      <td>1.002616</td>\n",
       "      <td>109</td>\n",
       "      <td>2</td>\n",
       "    </tr>\n",
       "    <tr>\n",
       "      <th>5353</th>\n",
       "      <td>(mobility, shift, assay)</td>\n",
       "      <td>only_CC</td>\n",
       "      <td>7.005318</td>\n",
       "      <td>1.002515</td>\n",
       "      <td>131</td>\n",
       "      <td>3</td>\n",
       "    </tr>\n",
       "    <tr>\n",
       "      <th>1942</th>\n",
       "      <td>(open, reading, frame)</td>\n",
       "      <td>only_CC</td>\n",
       "      <td>9.717699</td>\n",
       "      <td>0.996078</td>\n",
       "      <td>17</td>\n",
       "      <td>3</td>\n",
       "    </tr>\n",
       "    <tr>\n",
       "      <th>3583</th>\n",
       "      <td>(northern, blot)</td>\n",
       "      <td>only_CC</td>\n",
       "      <td>8.031681</td>\n",
       "      <td>0.985358</td>\n",
       "      <td>45</td>\n",
       "      <td>2</td>\n",
       "    </tr>\n",
       "    <tr>\n",
       "      <th>6655</th>\n",
       "      <td>(vitamin, d)</td>\n",
       "      <td>only_CC</td>\n",
       "      <td>8.026404</td>\n",
       "      <td>0.970630</td>\n",
       "      <td>44</td>\n",
       "      <td>2</td>\n",
       "    </tr>\n",
       "    <tr>\n",
       "      <th>1827</th>\n",
       "      <td>(dissociation, constant)</td>\n",
       "      <td>only_CC</td>\n",
       "      <td>8.851547</td>\n",
       "      <td>0.968140</td>\n",
       "      <td>26</td>\n",
       "      <td>2</td>\n",
       "    </tr>\n",
       "    <tr>\n",
       "      <th>1049</th>\n",
       "      <td>(tyrosine, phosphorylation)</td>\n",
       "      <td>both</td>\n",
       "      <td>6.116899</td>\n",
       "      <td>0.962208</td>\n",
       "      <td>162</td>\n",
       "      <td>2</td>\n",
       "    </tr>\n",
       "    <tr>\n",
       "      <th>6119</th>\n",
       "      <td>(squirrel, monkey)</td>\n",
       "      <td>only_CC</td>\n",
       "      <td>9.768243</td>\n",
       "      <td>0.953588</td>\n",
       "      <td>15</td>\n",
       "      <td>2</td>\n",
       "    </tr>\n",
       "    <tr>\n",
       "      <th>983</th>\n",
       "      <td>(leukotriene, b4)</td>\n",
       "      <td>only_CC</td>\n",
       "      <td>10.456876</td>\n",
       "      <td>0.952381</td>\n",
       "      <td>10</td>\n",
       "      <td>2</td>\n",
       "    </tr>\n",
       "    <tr>\n",
       "      <th>2715</th>\n",
       "      <td>(signal, transduction)</td>\n",
       "      <td>only_CC</td>\n",
       "      <td>6.414016</td>\n",
       "      <td>0.918291</td>\n",
       "      <td>153</td>\n",
       "      <td>2</td>\n",
       "    </tr>\n",
       "    <tr>\n",
       "      <th>5750</th>\n",
       "      <td>(immunodeficiency, virus)</td>\n",
       "      <td>only_CC</td>\n",
       "      <td>6.322930</td>\n",
       "      <td>0.918126</td>\n",
       "      <td>157</td>\n",
       "      <td>2</td>\n",
       "    </tr>\n",
       "    <tr>\n",
       "      <th>1466</th>\n",
       "      <td>(rheumatoid, arthritis)</td>\n",
       "      <td>only_CC</td>\n",
       "      <td>9.775005</td>\n",
       "      <td>0.916902</td>\n",
       "      <td>14</td>\n",
       "      <td>2</td>\n",
       "    </tr>\n",
       "    <tr>\n",
       "      <th>4753</th>\n",
       "      <td>(retinoic, acid)</td>\n",
       "      <td>only_CC</td>\n",
       "      <td>7.014805</td>\n",
       "      <td>0.870770</td>\n",
       "      <td>94</td>\n",
       "      <td>2</td>\n",
       "    </tr>\n",
       "    <tr>\n",
       "      <th>5839</th>\n",
       "      <td>(raw, 264.7)</td>\n",
       "      <td>only_CC</td>\n",
       "      <td>10.903726</td>\n",
       "      <td>0.845098</td>\n",
       "      <td>7</td>\n",
       "      <td>2</td>\n",
       "    </tr>\n",
       "    <tr>\n",
       "      <th>4626</th>\n",
       "      <td>(electrophoretic, mobility, shift, assay)</td>\n",
       "      <td>only_CC</td>\n",
       "      <td>7.252517</td>\n",
       "      <td>0.826644</td>\n",
       "      <td>99</td>\n",
       "      <td>4</td>\n",
       "    </tr>\n",
       "    <tr>\n",
       "      <th>4692</th>\n",
       "      <td>(mechanical, ventilation)</td>\n",
       "      <td>only_CC</td>\n",
       "      <td>10.771957</td>\n",
       "      <td>0.788758</td>\n",
       "      <td>7</td>\n",
       "      <td>2</td>\n",
       "    </tr>\n",
       "    <tr>\n",
       "      <th>5200</th>\n",
       "      <td>(e., chaffeensis)</td>\n",
       "      <td>only_CC</td>\n",
       "      <td>9.626161</td>\n",
       "      <td>0.782771</td>\n",
       "      <td>13</td>\n",
       "      <td>2</td>\n",
       "    </tr>\n",
       "    <tr>\n",
       "      <th>2613</th>\n",
       "      <td>(escherichia, coli)</td>\n",
       "      <td>only_CC</td>\n",
       "      <td>10.291209</td>\n",
       "      <td>0.780744</td>\n",
       "      <td>9</td>\n",
       "      <td>2</td>\n",
       "    </tr>\n",
       "    <tr>\n",
       "      <th>3883</th>\n",
       "      <td>(ru, 486)</td>\n",
       "      <td>only_CC</td>\n",
       "      <td>10.456876</td>\n",
       "      <td>0.760497</td>\n",
       "      <td>8</td>\n",
       "      <td>2</td>\n",
       "    </tr>\n",
       "    <tr>\n",
       "      <th>1327</th>\n",
       "      <td>(monoclonal, antibody)</td>\n",
       "      <td>only_CC</td>\n",
       "      <td>7.123586</td>\n",
       "      <td>0.733414</td>\n",
       "      <td>69</td>\n",
       "      <td>2</td>\n",
       "    </tr>\n",
       "    <tr>\n",
       "      <th>1729</th>\n",
       "      <td>(nih, 3t3)</td>\n",
       "      <td>only_CC</td>\n",
       "      <td>10.903726</td>\n",
       "      <td>0.718293</td>\n",
       "      <td>6</td>\n",
       "      <td>2</td>\n",
       "    </tr>\n",
       "    <tr>\n",
       "      <th>5894</th>\n",
       "      <td>(ulcerative, colitis)</td>\n",
       "      <td>only_CC</td>\n",
       "      <td>11.234580</td>\n",
       "      <td>0.698970</td>\n",
       "      <td>5</td>\n",
       "      <td>2</td>\n",
       "    </tr>\n",
       "    <tr>\n",
       "      <th>1862</th>\n",
       "      <td>(tetanus, toxoid)</td>\n",
       "      <td>only_CC</td>\n",
       "      <td>11.234580</td>\n",
       "      <td>0.698970</td>\n",
       "      <td>5</td>\n",
       "      <td>2</td>\n",
       "    </tr>\n",
       "    <tr>\n",
       "      <th>3112</th>\n",
       "      <td>(phorbol, 12-myristate, 13-acetate)</td>\n",
       "      <td>only_CC</td>\n",
       "      <td>8.095795</td>\n",
       "      <td>0.697532</td>\n",
       "      <td>47</td>\n",
       "      <td>3</td>\n",
       "    </tr>\n",
       "    <tr>\n",
       "      <th>920</th>\n",
       "      <td>(site-directed, mutagenesis)</td>\n",
       "      <td>only_CC</td>\n",
       "      <td>9.210140</td>\n",
       "      <td>0.691818</td>\n",
       "      <td>15</td>\n",
       "      <td>2</td>\n",
       "    </tr>\n",
       "  </tbody>\n",
       "</table>\n",
       "</div>"
      ],
      "text/plain": [
       "                                        concept     type     pmi_nl        tc  \\\n",
       "3661                              (nf-kappa, b)  only_CC   4.990988  1.797796   \n",
       "6187                        (peripheral, blood)  only_CC   6.668685  1.742202   \n",
       "6025                          (mobility, shift)  only_CC   7.380431  1.694980   \n",
       "1708                (electrophoretic, mobility)  only_CC   7.650202  1.640819   \n",
       "1854                 (12-myristate, 13-acetate)  only_CC   8.795946  1.522634   \n",
       "2108                             (zinc, finger)  only_CC   8.663115  1.512410   \n",
       "793                     (transcription, factor)     both   4.509866  1.435554   \n",
       "6744                             (bone, marrow)  only_CC   8.819017  1.404783   \n",
       "6846                           (phorbol, ester)  only_CC   7.391776  1.395424   \n",
       "5325         (electrophoretic, mobility, shift)  only_CC   7.555339  1.333979   \n",
       "7057                   (long, terminal, repeat)  only_CC   7.591147  1.258394   \n",
       "1458                              (lymph, node)  only_CC   9.967909  1.255273   \n",
       "5310       (chloramphenicol, acetyltransferase)  only_CC   8.800798  1.170119   \n",
       "4864                              (cyclic, amp)  only_CC   9.277528  1.145852   \n",
       "993                           (natural, killer)  only_CC   8.460087  1.145823   \n",
       "625                                   (t, cell)     both   3.769901  1.135449   \n",
       "4906                          (herpes, simplex)  only_CC   9.863101  1.130683   \n",
       "5400             (pyrrolidine, dithiocarbamate)  only_CC   9.758293  1.129745   \n",
       "6471                      (situ, hybridization)  only_CC   8.435617  1.104869   \n",
       "3545                            (nitric, oxide)  only_CC   9.814548  1.100928   \n",
       "5807                              (heat, shock)  only_CC   8.725055  1.089369   \n",
       "7030                          (flow, cytometry)  only_CC   9.250204  1.086068   \n",
       "6241                         (germinal, center)  only_CC   9.528051  1.084192   \n",
       "4900                           (breast, cancer)  only_CC   8.117351  1.075994   \n",
       "5968                       (hydrogen, peroxide)  only_CC   9.967909  1.002862   \n",
       "1531                              (amino, acid)  only_CC   7.005853  1.002616   \n",
       "5353                   (mobility, shift, assay)  only_CC   7.005318  1.002515   \n",
       "1942                     (open, reading, frame)  only_CC   9.717699  0.996078   \n",
       "3583                           (northern, blot)  only_CC   8.031681  0.985358   \n",
       "6655                               (vitamin, d)  only_CC   8.026404  0.970630   \n",
       "1827                   (dissociation, constant)  only_CC   8.851547  0.968140   \n",
       "1049                (tyrosine, phosphorylation)     both   6.116899  0.962208   \n",
       "6119                         (squirrel, monkey)  only_CC   9.768243  0.953588   \n",
       "983                           (leukotriene, b4)  only_CC  10.456876  0.952381   \n",
       "2715                     (signal, transduction)  only_CC   6.414016  0.918291   \n",
       "5750                  (immunodeficiency, virus)  only_CC   6.322930  0.918126   \n",
       "1466                    (rheumatoid, arthritis)  only_CC   9.775005  0.916902   \n",
       "4753                           (retinoic, acid)  only_CC   7.014805  0.870770   \n",
       "5839                               (raw, 264.7)  only_CC  10.903726  0.845098   \n",
       "4626  (electrophoretic, mobility, shift, assay)  only_CC   7.252517  0.826644   \n",
       "4692                  (mechanical, ventilation)  only_CC  10.771957  0.788758   \n",
       "5200                          (e., chaffeensis)  only_CC   9.626161  0.782771   \n",
       "2613                        (escherichia, coli)  only_CC  10.291209  0.780744   \n",
       "3883                                  (ru, 486)  only_CC  10.456876  0.760497   \n",
       "1327                     (monoclonal, antibody)  only_CC   7.123586  0.733414   \n",
       "1729                                 (nih, 3t3)  only_CC  10.903726  0.718293   \n",
       "5894                      (ulcerative, colitis)  only_CC  11.234580  0.698970   \n",
       "1862                          (tetanus, toxoid)  only_CC  11.234580  0.698970   \n",
       "3112        (phorbol, 12-myristate, 13-acetate)  only_CC   8.095795  0.697532   \n",
       "920                (site-directed, mutagenesis)  only_CC   9.210140  0.691818   \n",
       "\n",
       "      freq  len  \n",
       "3661  1077    2  \n",
       "6187   257    2  \n",
       "6025   148    2  \n",
       "1708   118    2  \n",
       "1854    48    2  \n",
       "2108    52    2  \n",
       "793    980    2  \n",
       "6744    43    2  \n",
       "6846   119    2  \n",
       "5325   110    3  \n",
       "7057    99    3  \n",
       "1458    18    2  \n",
       "5310    34    2  \n",
       "4864    25    2  \n",
       "993     42    2  \n",
       "625   1575    2  \n",
       "4906    17    2  \n",
       "5400    18    2  \n",
       "6471    40    2  \n",
       "3545    17    2  \n",
       "5807    33    2  \n",
       "7030    24    2  \n",
       "6241    20    2  \n",
       "4900    48    2  \n",
       "5968    14    2  \n",
       "1531   109    2  \n",
       "5353   131    3  \n",
       "1942    17    3  \n",
       "3583    45    2  \n",
       "6655    44    2  \n",
       "1827    26    2  \n",
       "1049   162    2  \n",
       "6119    15    2  \n",
       "983     10    2  \n",
       "2715   153    2  \n",
       "5750   157    2  \n",
       "1466    14    2  \n",
       "4753    94    2  \n",
       "5839     7    2  \n",
       "4626    99    4  \n",
       "4692     7    2  \n",
       "5200    13    2  \n",
       "2613     9    2  \n",
       "3883     8    2  \n",
       "1327    69    2  \n",
       "1729     6    2  \n",
       "5894     5    2  \n",
       "1862     5    2  \n",
       "3112    47    3  \n",
       "920     15    2  "
      ]
     },
     "execution_count": 55,
     "metadata": {},
     "output_type": "execute_result"
    }
   ],
   "source": [
    "data.sort_values('tc', ascending=False).head(50)"
   ]
  },
  {
   "cell_type": "code",
   "execution_count": 56,
   "metadata": {},
   "outputs": [
    {
     "data": {
      "text/plain": [
       "0.061337287678619574"
      ]
     },
     "execution_count": 56,
     "metadata": {},
     "output_type": "execute_result"
    }
   ],
   "source": [
    "len(data[(data['pmi_nl'] < 2) & (data['len'] == 2)]) / len(data)"
   ]
  },
  {
   "cell_type": "code",
   "execution_count": 58,
   "metadata": {},
   "outputs": [
    {
     "data": {
      "text/plain": [
       "<matplotlib.axes._subplots.AxesSubplot at 0x7fd8587f0080>"
      ]
     },
     "execution_count": 58,
     "metadata": {},
     "output_type": "execute_result"
    },
    {
     "data": {
      "image/png": "[encoded data removed]",
      "text/plain": [
       "<Figure size 432x288 with 1 Axes>"
      ]
     },
     "metadata": {},
     "output_type": "display_data"
    }
   ],
   "source": [
    "sns.boxplot(x='type', y='tc', data=data, showfliers=False)"
   ]
  },
  {
   "cell_type": "code",
   "execution_count": 59,
   "metadata": {},
   "outputs": [],
   "source": [
    "data_dict = {'ngram': [], 'freq': [], 'type': [], 'tc': [], 'pmi_nl': [], 'len': []}\n",
    "\n",
    "for n in range(2, 11):\n",
    "    for ngram, count in model.iterate(n, 2):\n",
    "        \n",
    "        ngram = tuple(ngram.split())\n",
    "\n",
    "        data_dict['ngram'].append(ngram)\n",
    "\n",
    "        data_dict['freq'].append(model[ngram])\n",
    "\n",
    "        if ngram in disc_concepts:\n",
    "            if ngram in cont_concepts:\n",
    "                ngram_type = 'both'\n",
    "            else:\n",
    "                ngram_type = 'only_DC'\n",
    "        elif ngram in cont_concepts:\n",
    "            ngram_type = 'only_CC'\n",
    "        else:\n",
    "            ngram_type = 'neither'\n",
    "            \n",
    "        data_dict['type'].append(ngram_type)\n",
    "\n",
    "        data_dict['pmi_nl'].append(conceptstats.length_normalized_pmi(ngram, model, smoothing=1))\n",
    "        data_dict['tc'].append(conceptstats.term_coherence(ngram, model))\n",
    "\n",
    "        data_dict['len'].append(len(ngram))\n",
    "        \n",
    "data = pd.DataFrame(data_dict)"
   ]
  },
  {
   "cell_type": "code",
   "execution_count": 62,
   "metadata": {},
   "outputs": [
    {
     "data": {
      "text/plain": [
       "<matplotlib.axes._subplots.AxesSubplot at 0x7fd7e8f97e80>"
      ]
     },
     "execution_count": 62,
     "metadata": {},
     "output_type": "execute_result"
    },
    {
     "data": {
      "image/png": "[encoded data removed]",
      "text/plain": [
       "<Figure size 432x288 with 1 Axes>"
      ]
     },
     "metadata": {},
     "output_type": "display_data"
    }
   ],
   "source": [
    "sns.boxplot(x='type', y='tc', data=data, showfliers=False)"
   ]
  },
  {
   "cell_type": "code",
   "execution_count": 63,
   "metadata": {},
   "outputs": [
    {
     "data": {
      "text/plain": [
       "<function pingouin.pairwise.pairwise_ttests(data=None, dv=None, between=None, within=None, subject=None, parametric=True, marginal=True, alpha=0.05, tail='two-sided', padjust='none', effsize='hedges', correction='auto', nan_policy='listwise', return_desc=False, interaction=True)>"
      ]
     },
     "execution_count": 63,
     "metadata": {},
     "output_type": "execute_result"
    }
   ],
   "source": [
    "pingouin.pairwise_ttests"
   ]
  },
  {
   "cell_type": "code",
   "execution_count": null,
   "metadata": {},
   "outputs": [],
   "source": []
  }
 ],
 "metadata": {
  "kernelspec": {
   "display_name": "Python 3",
   "language": "python",
   "name": "python3"
  },
  "language_info": {
   "codemirror_mode": {
    "name": "ipython",
    "version": 3
   },
   "file_extension": ".py",
   "mimetype": "text/x-python",
   "name": "python",
   "nbconvert_exporter": "python",
   "pygments_lexer": "ipython3",
   "version": "3.6.9"
  }
 },
 "nbformat": 4,
 "nbformat_minor": 2
}
