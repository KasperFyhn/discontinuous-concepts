{
 "cells": [
  {
   "cell_type": "markdown",
   "metadata": {},
   "source": [
    "# Analysis of unithood"
   ]
  },
  {
   "cell_type": "markdown",
   "metadata": {},
   "source": [
    "This notebook contains most parts of the analysis on unithood, the strength of association between components of concepts."
   ]
  },
  {
   "cell_type": "code",
   "execution_count": 3,
   "metadata": {},
   "outputs": [],
   "source": [
    "CORPUS_NAME = 'genia'\n",
    "MODEL_SPEC = '_min2_l10'\n",
    "FREQ_THRESHOLD = 3"
   ]
  },
  {
   "cell_type": "code",
   "execution_count": 4,
   "metadata": {},
   "outputs": [
    {
     "name": "stdout",
     "output_type": "stream",
     "text": [
      "Loading GENIA corpus ... NOTE: 13 files cannot get Constituent annotations!\n"
     ]
    },
    {
     "name": "stderr",
     "output_type": "stream",
     "text": [
      "100%|██████████| 1599/1599 [00:12<00:00, 127.09it/s]\n"
     ]
    },
    {
     "name": "stdout",
     "output_type": "stream",
     "text": [
      "Loading n-gram model\n"
     ]
    }
   ],
   "source": [
    "# get to root directory of project\n",
    "import os\n",
    "os.chdir('/home/kasper/PycharmProjects/discontinuous-concepts/')\n",
    "\n",
    "from datautils import dataio, annotations as anno\n",
    "from stats import ngramcounting\n",
    "\n",
    "# load the corpora\n",
    "if CORPUS_NAME.lower() == 'pmc':\n",
    "    corpus = dataio.load_craft_corpus() + dataio.load_genia_corpus()\n",
    "else:\n",
    "    corpus = dataio.load_corpus(CORPUS_NAME.lower())\n",
    "print('Loading n-gram model')\n",
    "model = ngramcounting.NgramModel.load_model(CORPUS_NAME, MODEL_SPEC)"
   ]
  },
  {
   "cell_type": "markdown",
   "metadata": {},
   "source": [
    "## Question 1: How strong is the association in regular concepts?"
   ]
  },
  {
   "cell_type": "code",
   "execution_count": 51,
   "metadata": {},
   "outputs": [
    {
     "name": "stdout",
     "output_type": "stream",
     "text": [
      "Retrieving gold standard concepts ... Skipped 3 concepts not bounded at tokens boundaries.\n"
     ]
    }
   ],
   "source": [
    "# get all continuous concepts\n",
    "\n",
    "from stats import conceptstats\n",
    "cont_concepts = conceptstats.gold_standard_concepts(corpus, discontinuous=False)"
   ]
  },
  {
   "cell_type": "code",
   "execution_count": 52,
   "metadata": {},
   "outputs": [],
   "source": [
    "import nltk\n",
    "concept_bigrams = {bigram for concept in cont_concepts for bigram in nltk.bigrams(concept)}"
   ]
  },
  {
   "cell_type": "code",
   "execution_count": 53,
   "metadata": {},
   "outputs": [],
   "source": [
    "import pandas as pd\n",
    "\n",
    "# now, loop over all bigrams in the n-gram model, measure their association\n",
    "# and note whether they occur in a concept or not\n",
    "\n",
    "data_dict = {'bigram': [], 'in_concept': [],  'pmi': [], 'll': [], 'freq': []}\n",
    "\n",
    "for bigram_pattern, count in model.iterate(2, threshold=FREQ_THRESHOLD,\n",
    "                                           encoded_patterns=True):\n",
    "    \n",
    "    bigram = model.decode_pattern(bigram_pattern)\n",
    "    data_dict['bigram'].append(bigram)\n",
    "    \n",
    "    data_dict['freq'].append(count)\n",
    "    \n",
    "    word_a = bigram_pattern[0]\n",
    "    word_b = bigram_pattern[1]\n",
    "    contingency_table = model.contingency_table(word_a, word_b)\n",
    "    pmi = conceptstats.pointwise_mutual_information(contingency_table)\n",
    "    data_dict['pmi'].append(pmi)\n",
    "    ll = conceptstats.log_likelihood_ratio(contingency_table)\n",
    "    data_dict['ll'].append(ll)\n",
    "    \n",
    "    data_dict['in_concept'].append(bigram in concept_bigrams)\n",
    "\n",
    "\n",
    "data = pd.DataFrame(data_dict)"
   ]
  },
  {
   "cell_type": "code",
   "execution_count": 54,
   "metadata": {},
   "outputs": [
    {
     "data": {
      "text/html": [
       "<div>\n",
       "<style scoped>\n",
       "    .dataframe tbody tr th:only-of-type {\n",
       "        vertical-align: middle;\n",
       "    }\n",
       "\n",
       "    .dataframe tbody tr th {\n",
       "        vertical-align: top;\n",
       "    }\n",
       "\n",
       "    .dataframe thead th {\n",
       "        text-align: right;\n",
       "    }\n",
       "</style>\n",
       "<table border=\"1\" class=\"dataframe\">\n",
       "  <thead>\n",
       "    <tr style=\"text-align: right;\">\n",
       "      <th></th>\n",
       "      <th>bigram</th>\n",
       "      <th>in_concept</th>\n",
       "      <th>pmi</th>\n",
       "      <th>ll</th>\n",
       "      <th>freq</th>\n",
       "    </tr>\n",
       "  </thead>\n",
       "  <tbody>\n",
       "    <tr>\n",
       "      <th>0</th>\n",
       "      <td>(of, arsenic)</td>\n",
       "      <td>False</td>\n",
       "      <td>2.522915</td>\n",
       "      <td>19.107739</td>\n",
       "      <td>4</td>\n",
       "    </tr>\n",
       "    <tr>\n",
       "      <th>1</th>\n",
       "      <td>(,, similar)</td>\n",
       "      <td>False</td>\n",
       "      <td>-0.347627</td>\n",
       "      <td>0.845113</td>\n",
       "      <td>5</td>\n",
       "    </tr>\n",
       "    <tr>\n",
       "      <th>2</th>\n",
       "      <td>(and, secretion)</td>\n",
       "      <td>False</td>\n",
       "      <td>1.365367</td>\n",
       "      <td>15.650506</td>\n",
       "      <td>11</td>\n",
       "    </tr>\n",
       "    <tr>\n",
       "      <th>3</th>\n",
       "      <td>(,, implicate)</td>\n",
       "      <td>False</td>\n",
       "      <td>0.638141</td>\n",
       "      <td>2.443953</td>\n",
       "      <td>6</td>\n",
       "    </tr>\n",
       "    <tr>\n",
       "      <th>4</th>\n",
       "      <td>(redox, state)</td>\n",
       "      <td>True</td>\n",
       "      <td>6.409419</td>\n",
       "      <td>43.953821</td>\n",
       "      <td>3</td>\n",
       "    </tr>\n",
       "    <tr>\n",
       "      <th>5</th>\n",
       "      <td>(,, dibutyryl)</td>\n",
       "      <td>False</td>\n",
       "      <td>2.295750</td>\n",
       "      <td>12.561360</td>\n",
       "      <td>3</td>\n",
       "    </tr>\n",
       "    <tr>\n",
       "      <th>6</th>\n",
       "      <td>(into, the)</td>\n",
       "      <td>False</td>\n",
       "      <td>1.946253</td>\n",
       "      <td>199.778295</td>\n",
       "      <td>80</td>\n",
       "    </tr>\n",
       "    <tr>\n",
       "      <th>7</th>\n",
       "      <td>(and, atopic)</td>\n",
       "      <td>False</td>\n",
       "      <td>2.049704</td>\n",
       "      <td>10.131690</td>\n",
       "      <td>3</td>\n",
       "    </tr>\n",
       "    <tr>\n",
       "      <th>8</th>\n",
       "      <td>(;, 17)</td>\n",
       "      <td>True</td>\n",
       "      <td>4.803986</td>\n",
       "      <td>38.784870</td>\n",
       "      <td>4</td>\n",
       "    </tr>\n",
       "    <tr>\n",
       "      <th>9</th>\n",
       "      <td>(regulator, ,)</td>\n",
       "      <td>False</td>\n",
       "      <td>0.534762</td>\n",
       "      <td>1.514687</td>\n",
       "      <td>5</td>\n",
       "    </tr>\n",
       "    <tr>\n",
       "      <th>10</th>\n",
       "      <td>(il2, ))</td>\n",
       "      <td>True</td>\n",
       "      <td>2.632732</td>\n",
       "      <td>14.314078</td>\n",
       "      <td>3</td>\n",
       "    </tr>\n",
       "    <tr>\n",
       "      <th>11</th>\n",
       "      <td>(activity, for)</td>\n",
       "      <td>False</td>\n",
       "      <td>-0.347553</td>\n",
       "      <td>0.823677</td>\n",
       "      <td>5</td>\n",
       "    </tr>\n",
       "    <tr>\n",
       "      <th>12</th>\n",
       "      <td>(unprimed, cell)</td>\n",
       "      <td>True</td>\n",
       "      <td>3.343949</td>\n",
       "      <td>21.351091</td>\n",
       "      <td>3</td>\n",
       "    </tr>\n",
       "    <tr>\n",
       "      <th>13</th>\n",
       "      <td>(prim, monocyte)</td>\n",
       "      <td>True</td>\n",
       "      <td>5.007124</td>\n",
       "      <td>33.089456</td>\n",
       "      <td>3</td>\n",
       "    </tr>\n",
       "    <tr>\n",
       "      <th>14</th>\n",
       "      <td>(t-cell, determinant)</td>\n",
       "      <td>True</td>\n",
       "      <td>5.115198</td>\n",
       "      <td>42.212634</td>\n",
       "      <td>4</td>\n",
       "    </tr>\n",
       "    <tr>\n",
       "      <th>15</th>\n",
       "      <td>(bob1, ,)</td>\n",
       "      <td>False</td>\n",
       "      <td>2.295750</td>\n",
       "      <td>12.561360</td>\n",
       "      <td>3</td>\n",
       "    </tr>\n",
       "    <tr>\n",
       "      <th>16</th>\n",
       "      <td>(a, dominant)</td>\n",
       "      <td>False</td>\n",
       "      <td>3.028737</td>\n",
       "      <td>100.506588</td>\n",
       "      <td>21</td>\n",
       "    </tr>\n",
       "    <tr>\n",
       "      <th>17</th>\n",
       "      <td>(j, delta)</td>\n",
       "      <td>True</td>\n",
       "      <td>7.436437</td>\n",
       "      <td>120.000595</td>\n",
       "      <td>8</td>\n",
       "    </tr>\n",
       "    <tr>\n",
       "      <th>18</th>\n",
       "      <td>(family, member)</td>\n",
       "      <td>True</td>\n",
       "      <td>5.622606</td>\n",
       "      <td>592.636897</td>\n",
       "      <td>60</td>\n",
       "    </tr>\n",
       "    <tr>\n",
       "      <th>19</th>\n",
       "      <td>(t-cell, line)</td>\n",
       "      <td>True</td>\n",
       "      <td>4.144713</td>\n",
       "      <td>385.488641</td>\n",
       "      <td>58</td>\n",
       "    </tr>\n",
       "  </tbody>\n",
       "</table>\n",
       "</div>"
      ],
      "text/plain": [
       "                   bigram  in_concept       pmi          ll  freq\n",
       "0           (of, arsenic)       False  2.522915   19.107739     4\n",
       "1            (,, similar)       False -0.347627    0.845113     5\n",
       "2        (and, secretion)       False  1.365367   15.650506    11\n",
       "3          (,, implicate)       False  0.638141    2.443953     6\n",
       "4          (redox, state)        True  6.409419   43.953821     3\n",
       "5          (,, dibutyryl)       False  2.295750   12.561360     3\n",
       "6             (into, the)       False  1.946253  199.778295    80\n",
       "7           (and, atopic)       False  2.049704   10.131690     3\n",
       "8                 (;, 17)        True  4.803986   38.784870     4\n",
       "9          (regulator, ,)       False  0.534762    1.514687     5\n",
       "10               (il2, ))        True  2.632732   14.314078     3\n",
       "11        (activity, for)       False -0.347553    0.823677     5\n",
       "12       (unprimed, cell)        True  3.343949   21.351091     3\n",
       "13       (prim, monocyte)        True  5.007124   33.089456     3\n",
       "14  (t-cell, determinant)        True  5.115198   42.212634     4\n",
       "15              (bob1, ,)       False  2.295750   12.561360     3\n",
       "16          (a, dominant)       False  3.028737  100.506588    21\n",
       "17             (j, delta)        True  7.436437  120.000595     8\n",
       "18       (family, member)        True  5.622606  592.636897    60\n",
       "19         (t-cell, line)        True  4.144713  385.488641    58"
      ]
     },
     "execution_count": 54,
     "metadata": {},
     "output_type": "execute_result"
    }
   ],
   "source": [
    "data.head(20)"
   ]
  },
  {
   "cell_type": "code",
   "execution_count": 55,
   "metadata": {},
   "outputs": [
    {
     "data": {
      "text/plain": [
       "<matplotlib.axes._subplots.AxesSubplot at 0x7f49edc6e6d8>"
      ]
     },
     "execution_count": 55,
     "metadata": {},
     "output_type": "execute_result"
    },
    {
     "data": {
      "image/png": "[encoded data removed]",
      "text/plain": [
       "<Figure size 432x288 with 1 Axes>"
      ]
     },
     "metadata": {},
     "output_type": "display_data"
    }
   ],
   "source": [
    "import seaborn as sns\n",
    "sns.boxplot(x='in_concept', y='pmi', data=data, showfliers=False)"
   ]
  },
  {
   "cell_type": "code",
   "execution_count": 56,
   "metadata": {},
   "outputs": [
    {
     "data": {
      "text/plain": [
       "<matplotlib.axes._subplots.AxesSubplot at 0x7f49edc0ad30>"
      ]
     },
     "execution_count": 56,
     "metadata": {},
     "output_type": "execute_result"
    },
    {
     "data": {
      "image/png": "[encoded data removed]",
      "text/plain": [
       "<Figure size 432x288 with 1 Axes>"
      ]
     },
     "metadata": {},
     "output_type": "display_data"
    }
   ],
   "source": [
    "sns.boxplot(x='in_concept', y='ll', data=data, showfliers=False)"
   ]
  },
  {
   "cell_type": "code",
   "execution_count": 57,
   "metadata": {},
   "outputs": [],
   "source": [
    "# we can perform t-tests etc."
   ]
  },
  {
   "cell_type": "code",
   "execution_count": 49,
   "metadata": {},
   "outputs": [],
   "source": [
    "from scipy import stats"
   ]
  },
  {
   "cell_type": "code",
   "execution_count": 65,
   "metadata": {},
   "outputs": [
    {
     "data": {
      "text/html": [
       "<div>\n",
       "<style scoped>\n",
       "    .dataframe tbody tr th:only-of-type {\n",
       "        vertical-align: middle;\n",
       "    }\n",
       "\n",
       "    .dataframe tbody tr th {\n",
       "        vertical-align: top;\n",
       "    }\n",
       "\n",
       "    .dataframe thead th {\n",
       "        text-align: right;\n",
       "    }\n",
       "</style>\n",
       "<table border=\"1\" class=\"dataframe\">\n",
       "  <thead>\n",
       "    <tr style=\"text-align: right;\">\n",
       "      <th></th>\n",
       "      <th>U-val</th>\n",
       "      <th>tail</th>\n",
       "      <th>p-val</th>\n",
       "      <th>RBC</th>\n",
       "      <th>CLES</th>\n",
       "    </tr>\n",
       "  </thead>\n",
       "  <tbody>\n",
       "    <tr>\n",
       "      <th>MWU</th>\n",
       "      <td>72471335.0</td>\n",
       "      <td>two-sided</td>\n",
       "      <td>0.0</td>\n",
       "      <td>-0.553</td>\n",
       "      <td>0.776</td>\n",
       "    </tr>\n",
       "  </tbody>\n",
       "</table>\n",
       "</div>"
      ],
      "text/plain": [
       "          U-val       tail  p-val    RBC   CLES\n",
       "MWU  72471335.0  two-sided    0.0 -0.553  0.776"
      ]
     },
     "execution_count": 65,
     "metadata": {},
     "output_type": "execute_result"
    }
   ],
   "source": [
    "import pingouin\n",
    "pingouin.mwu(data[data['in_concept'] == True]['pmi'],\n",
    "             data[data['in_concept'] == False]['pmi'])"
   ]
  },
  {
   "cell_type": "markdown",
   "metadata": {},
   "source": [
    "Conclusion: concept bigrams _do_ have higher association."
   ]
  },
  {
   "cell_type": "markdown",
   "metadata": {},
   "source": [
    "## Question 2: How does it look for bigrams in DC's?"
   ]
  },
  {
   "cell_type": "code",
   "execution_count": 67,
   "metadata": {},
   "outputs": [
    {
     "name": "stdout",
     "output_type": "stream",
     "text": [
      "Retrieving gold standard concepts ... Skipped 0 concepts not bounded at tokens boundaries.\n"
     ]
    }
   ],
   "source": [
    "disc_concepts = conceptstats.gold_standard_concepts(corpus, continuous=False,\n",
    "                                                    discontinuous=True)\n",
    "dc_bigrams = {bigram for concept in disc_concepts for bigram in nltk.bigrams(concept)}"
   ]
  },
  {
   "cell_type": "code",
   "execution_count": 68,
   "metadata": {},
   "outputs": [],
   "source": [
    "import pandas as pd\n",
    "\n",
    "# now, loop over all bigrams in the n-gram model, measure their association\n",
    "# and note whether they occur in a concept or not\n",
    "\n",
    "data_dict = {'bigram': [], 'type': [],  'pmi': [], 'll': [], 'freq': []}\n",
    "\n",
    "for bigram_pattern, count in model.iterate(2, threshold=FREQ_THRESHOLD,\n",
    "                                           encoded_patterns=True):\n",
    "    \n",
    "    bigram = model.decode_pattern(bigram_pattern)\n",
    "    data_dict['bigram'].append(bigram)\n",
    "    \n",
    "    data_dict['freq'].append(count)\n",
    "    \n",
    "    word_a = bigram_pattern[0]\n",
    "    word_b = bigram_pattern[1]\n",
    "    contingency_table = model.contingency_table(word_a, word_b)\n",
    "    pmi = conceptstats.pointwise_mutual_information(contingency_table)\n",
    "    data_dict['pmi'].append(pmi)\n",
    "    ll = conceptstats.log_likelihood_ratio(contingency_table)\n",
    "    data_dict['ll'].append(ll)\n",
    "    \n",
    "    if bigram in concept_bigrams:\n",
    "        if bigram in dc_bigrams:\n",
    "            bigram_type = 'both'\n",
    "        else:\n",
    "            bigram_type = 'only_CC'\n",
    "    elif bigram in dc_bigrams:\n",
    "        bigram_type = 'only_DC'\n",
    "    else:\n",
    "        bigram_type = 'neither'\n",
    "    \n",
    "    data_dict['type'].append(bigram_type)\n",
    "\n",
    "\n",
    "data = pd.DataFrame(data_dict)"
   ]
  },
  {
   "cell_type": "code",
   "execution_count": 69,
   "metadata": {},
   "outputs": [
    {
     "data": {
      "text/plain": [
       "<matplotlib.axes._subplots.AxesSubplot at 0x7f49ef62c278>"
      ]
     },
     "execution_count": 69,
     "metadata": {},
     "output_type": "execute_result"
    },
    {
     "data": {
      "image/png": "[encoded data removed]",
      "text/plain": [
       "<Figure size 432x288 with 1 Axes>"
      ]
     },
     "metadata": {},
     "output_type": "display_data"
    }
   ],
   "source": [
    "sns.boxplot(x='type', y='pmi', data=data, showfliers=False)"
   ]
  },
  {
   "cell_type": "code",
   "execution_count": 70,
   "metadata": {},
   "outputs": [
    {
     "data": {
      "text/plain": [
       "<matplotlib.axes._subplots.AxesSubplot at 0x7f49ee4dca20>"
      ]
     },
     "execution_count": 70,
     "metadata": {},
     "output_type": "execute_result"
    },
    {
     "data": {
      "image/png": "[encoded data removed]",
      "text/plain": [
       "<Figure size 432x288 with 1 Axes>"
      ]
     },
     "metadata": {},
     "output_type": "display_data"
    }
   ],
   "source": [
    "sns.boxplot(x='type', y='ll', data=data, showfliers=False)"
   ]
  },
  {
   "cell_type": "code",
   "execution_count": 71,
   "metadata": {},
   "outputs": [
    {
     "data": {
      "text/html": [
       "<div>\n",
       "<style scoped>\n",
       "    .dataframe tbody tr th:only-of-type {\n",
       "        vertical-align: middle;\n",
       "    }\n",
       "\n",
       "    .dataframe tbody tr th {\n",
       "        vertical-align: top;\n",
       "    }\n",
       "\n",
       "    .dataframe thead th {\n",
       "        text-align: right;\n",
       "    }\n",
       "</style>\n",
       "<table border=\"1\" class=\"dataframe\">\n",
       "  <thead>\n",
       "    <tr style=\"text-align: right;\">\n",
       "      <th></th>\n",
       "      <th>Source</th>\n",
       "      <th>ddof1</th>\n",
       "      <th>H</th>\n",
       "      <th>p-unc</th>\n",
       "    </tr>\n",
       "  </thead>\n",
       "  <tbody>\n",
       "    <tr>\n",
       "      <th>Kruskal</th>\n",
       "      <td>type</td>\n",
       "      <td>3</td>\n",
       "      <td>2958.827</td>\n",
       "      <td>0.0</td>\n",
       "    </tr>\n",
       "  </tbody>\n",
       "</table>\n",
       "</div>"
      ],
      "text/plain": [
       "        Source  ddof1         H  p-unc\n",
       "Kruskal   type      3  2958.827    0.0"
      ]
     },
     "execution_count": 71,
     "metadata": {},
     "output_type": "execute_result"
    }
   ],
   "source": [
    "pingouin.kruskal(data, 'll', 'type')"
   ]
  },
  {
   "cell_type": "code",
   "execution_count": 46,
   "metadata": {},
   "outputs": [
    {
     "data": {
      "text/plain": [
       "16"
      ]
     },
     "execution_count": 46,
     "metadata": {},
     "output_type": "execute_result"
    }
   ],
   "source": [
    "# However, notice that\n",
    "len(data[data['type'] == 'only_DC'])"
   ]
  },
  {
   "cell_type": "code",
   "execution_count": 47,
   "metadata": {},
   "outputs": [
    {
     "data": {
      "text/plain": [
       "786"
      ]
     },
     "execution_count": 47,
     "metadata": {},
     "output_type": "execute_result"
    }
   ],
   "source": [
    "# compared to e.g.\n",
    "len(data[data['type'] == 'both'])"
   ]
  },
  {
   "cell_type": "markdown",
   "metadata": {},
   "source": [
    "## Question 3: What is the association across the gap?"
   ]
  },
  {
   "cell_type": "code",
   "execution_count": 76,
   "metadata": {},
   "outputs": [],
   "source": [
    "from collections import defaultdict\n",
    "\n",
    "gap_bigrams = defaultdict(list)\n",
    "cont_bigrams = defaultdict(list)\n",
    "dc_sample = {dc for doc in corpus for dc in doc.get_annotations(anno.DiscontinuousConcept)}\n",
    "for dc in dc_sample:\n",
    "    tokens = dc.get_concept_tokens()\n",
    "    norm_concept = dc.normalized_concept()\n",
    "    for i in range(len(tokens) - 1):\n",
    "        t1, t2 = tokens[i], tokens[i+1]\n",
    "        bigram = norm_concept[i:i + 2]\n",
    "        if t2.span[0] - t1.span[-1] > 2:\n",
    "            gap_bigrams[bigram].append(dc)\n",
    "        else:\n",
    "            cont_bigrams[bigram].append(dc)"
   ]
  },
  {
   "cell_type": "code",
   "execution_count": 98,
   "metadata": {},
   "outputs": [],
   "source": [
    "data_dict = {'bigram': [], 'freq': [], 'pmi': [], 'll': [], 'type': []}\n",
    "\n",
    "all_bigrams = set(gap_bigrams.keys()).union(set(cont_bigrams.keys()))\n",
    "for bigram in all_bigrams:\n",
    "    # skip if not frequent enough\n",
    "    if model.freq(bigram) < FREQ_THRESHOLD:\n",
    "        continue\n",
    "\n",
    "    data_dict['bigram'].append(bigram)\n",
    "    data_dict['freq'].append(model.freq(bigram))\n",
    "\n",
    "    contingency_table = model.contingency_table(bigram[0], bigram[1])\n",
    "    pmi = conceptstats.pointwise_mutual_information(contingency_table)\n",
    "    data_dict['pmi'].append(pmi)\n",
    "    ll = conceptstats.log_likelihood_ratio(contingency_table)\n",
    "    data_dict['ll'].append(ll)\n",
    "\n",
    "    # how it occurs\n",
    "    if bigram in gap_bigrams:\n",
    "        if bigram in cont_bigrams: \n",
    "            type_ = 'both'\n",
    "        else:\n",
    "            type_ = 'only_gap'\n",
    "    else:\n",
    "        type_ = 'only_cont'\n",
    "    data_dict['type'].append(type_)\n",
    "\n",
    "data = pd.DataFrame(data_dict)"
   ]
  },
  {
   "cell_type": "markdown",
   "metadata": {},
   "source": [
    "### NOTE\n",
    "\n",
    "That a bigram occurs as `only_gap` means that it occurs only in gap position for DC's. However, those bigrams can just as well occur in CC's as well, thereby getting a high association."
   ]
  },
  {
   "cell_type": "code",
   "execution_count": 99,
   "metadata": {},
   "outputs": [
    {
     "data": {
      "text/plain": [
       "<matplotlib.axes._subplots.AxesSubplot at 0x7f49ec760320>"
      ]
     },
     "execution_count": 99,
     "metadata": {},
     "output_type": "execute_result"
    },
    {
     "data": {
      "image/png": "[encoded data removed]",
      "text/plain": [
       "<Figure size 432x288 with 1 Axes>"
      ]
     },
     "metadata": {},
     "output_type": "display_data"
    }
   ],
   "source": [
    "sns.boxplot(x='type', y='pmi', data=data, showfliers=False)"
   ]
  },
  {
   "cell_type": "code",
   "execution_count": 100,
   "metadata": {},
   "outputs": [
    {
     "data": {
      "text/html": [
       "<div>\n",
       "<style scoped>\n",
       "    .dataframe tbody tr th:only-of-type {\n",
       "        vertical-align: middle;\n",
       "    }\n",
       "\n",
       "    .dataframe tbody tr th {\n",
       "        vertical-align: top;\n",
       "    }\n",
       "\n",
       "    .dataframe thead th {\n",
       "        text-align: right;\n",
       "    }\n",
       "</style>\n",
       "<table border=\"1\" class=\"dataframe\">\n",
       "  <thead>\n",
       "    <tr style=\"text-align: right;\">\n",
       "      <th></th>\n",
       "      <th>Source</th>\n",
       "      <th>ddof1</th>\n",
       "      <th>H</th>\n",
       "      <th>p-unc</th>\n",
       "    </tr>\n",
       "  </thead>\n",
       "  <tbody>\n",
       "    <tr>\n",
       "      <th>Kruskal</th>\n",
       "      <td>type</td>\n",
       "      <td>2</td>\n",
       "      <td>3.771</td>\n",
       "      <td>0.151734</td>\n",
       "    </tr>\n",
       "  </tbody>\n",
       "</table>\n",
       "</div>"
      ],
      "text/plain": [
       "        Source  ddof1      H     p-unc\n",
       "Kruskal   type      2  3.771  0.151734"
      ]
     },
     "execution_count": 100,
     "metadata": {},
     "output_type": "execute_result"
    }
   ],
   "source": [
    "pingouin.kruskal(data, 'pmi', 'type')"
   ]
  },
  {
   "cell_type": "code",
   "execution_count": 101,
   "metadata": {},
   "outputs": [
    {
     "data": {
      "text/plain": [
       "<matplotlib.axes._subplots.AxesSubplot at 0x7f49ec68f1d0>"
      ]
     },
     "execution_count": 101,
     "metadata": {},
     "output_type": "execute_result"
    },
    {
     "data": {
      "image/png": "[encoded data removed]",
      "text/plain": [
       "<Figure size 432x288 with 1 Axes>"
      ]
     },
     "metadata": {},
     "output_type": "display_data"
    }
   ],
   "source": [
    "sns.boxplot(x='type', y='ll', data=data, showfliers=False)"
   ]
  },
  {
   "cell_type": "code",
   "execution_count": 106,
   "metadata": {},
   "outputs": [
    {
     "data": {
      "text/html": [
       "<div>\n",
       "<style scoped>\n",
       "    .dataframe tbody tr th:only-of-type {\n",
       "        vertical-align: middle;\n",
       "    }\n",
       "\n",
       "    .dataframe tbody tr th {\n",
       "        vertical-align: top;\n",
       "    }\n",
       "\n",
       "    .dataframe thead th {\n",
       "        text-align: right;\n",
       "    }\n",
       "</style>\n",
       "<table border=\"1\" class=\"dataframe\">\n",
       "  <thead>\n",
       "    <tr style=\"text-align: right;\">\n",
       "      <th></th>\n",
       "      <th>bigram</th>\n",
       "      <th>freq</th>\n",
       "      <th>pmi</th>\n",
       "      <th>ll</th>\n",
       "      <th>type</th>\n",
       "    </tr>\n",
       "  </thead>\n",
       "  <tbody>\n",
       "    <tr>\n",
       "      <th>105</th>\n",
       "      <td>(tetanus, toxoid)</td>\n",
       "      <td>5</td>\n",
       "      <td>10.763770</td>\n",
       "      <td>133.381513</td>\n",
       "      <td>only_cont</td>\n",
       "    </tr>\n",
       "    <tr>\n",
       "      <th>438</th>\n",
       "      <td>(acetyl, transferase)</td>\n",
       "      <td>9</td>\n",
       "      <td>10.042452</td>\n",
       "      <td>203.659682</td>\n",
       "      <td>only_cont</td>\n",
       "    </tr>\n",
       "    <tr>\n",
       "      <th>760</th>\n",
       "      <td>(squirrel, monkey)</td>\n",
       "      <td>15</td>\n",
       "      <td>9.625153</td>\n",
       "      <td>316.760035</td>\n",
       "      <td>only_cont</td>\n",
       "    </tr>\n",
       "    <tr>\n",
       "      <th>507</th>\n",
       "      <td>(k+, channel)</td>\n",
       "      <td>10</td>\n",
       "      <td>9.598766</td>\n",
       "      <td>212.262071</td>\n",
       "      <td>only_cont</td>\n",
       "    </tr>\n",
       "    <tr>\n",
       "      <th>310</th>\n",
       "      <td>(leucine, zipper)</td>\n",
       "      <td>6</td>\n",
       "      <td>9.531626</td>\n",
       "      <td>128.034776</td>\n",
       "      <td>only_cont</td>\n",
       "    </tr>\n",
       "    <tr>\n",
       "      <th>...</th>\n",
       "      <td>...</td>\n",
       "      <td>...</td>\n",
       "      <td>...</td>\n",
       "      <td>...</td>\n",
       "      <td>...</td>\n",
       "    </tr>\n",
       "    <tr>\n",
       "      <th>488</th>\n",
       "      <td>(lymphocyte, cell)</td>\n",
       "      <td>6</td>\n",
       "      <td>-0.784337</td>\n",
       "      <td>5.784182</td>\n",
       "      <td>only_cont</td>\n",
       "    </tr>\n",
       "    <tr>\n",
       "      <th>465</th>\n",
       "      <td>(a, ()</td>\n",
       "      <td>36</td>\n",
       "      <td>-0.929323</td>\n",
       "      <td>45.766798</td>\n",
       "      <td>only_cont</td>\n",
       "    </tr>\n",
       "    <tr>\n",
       "      <th>686</th>\n",
       "      <td>((, a)</td>\n",
       "      <td>24</td>\n",
       "      <td>-1.321365</td>\n",
       "      <td>72.986722</td>\n",
       "      <td>only_cont</td>\n",
       "    </tr>\n",
       "    <tr>\n",
       "      <th>277</th>\n",
       "      <td>(t, ()</td>\n",
       "      <td>5</td>\n",
       "      <td>-1.495857</td>\n",
       "      <td>23.906769</td>\n",
       "      <td>only_cont</td>\n",
       "    </tr>\n",
       "    <tr>\n",
       "      <th>1</th>\n",
       "      <td>(a, ))</td>\n",
       "      <td>15</td>\n",
       "      <td>-1.773017</td>\n",
       "      <td>101.800590</td>\n",
       "      <td>only_cont</td>\n",
       "    </tr>\n",
       "  </tbody>\n",
       "</table>\n",
       "<p>451 rows × 5 columns</p>\n",
       "</div>"
      ],
      "text/plain": [
       "                    bigram  freq        pmi          ll       type\n",
       "105      (tetanus, toxoid)     5  10.763770  133.381513  only_cont\n",
       "438  (acetyl, transferase)     9  10.042452  203.659682  only_cont\n",
       "760     (squirrel, monkey)    15   9.625153  316.760035  only_cont\n",
       "507          (k+, channel)    10   9.598766  212.262071  only_cont\n",
       "310      (leucine, zipper)     6   9.531626  128.034776  only_cont\n",
       "..                     ...   ...        ...         ...        ...\n",
       "488     (lymphocyte, cell)     6  -0.784337    5.784182  only_cont\n",
       "465                 (a, ()    36  -0.929323   45.766798  only_cont\n",
       "686                 ((, a)    24  -1.321365   72.986722  only_cont\n",
       "277                 (t, ()     5  -1.495857   23.906769  only_cont\n",
       "1                   (a, ))    15  -1.773017  101.800590  only_cont\n",
       "\n",
       "[451 rows x 5 columns]"
      ]
     },
     "execution_count": 106,
     "metadata": {},
     "output_type": "execute_result"
    }
   ],
   "source": [
    "data[data['type'] == 'only_cont'].sort_values(['pmi', 'll'], ascending=False)"
   ]
  },
  {
   "cell_type": "code",
   "execution_count": 103,
   "metadata": {},
   "outputs": [
    {
     "data": {
      "text/plain": [
       "<seaborn.axisgrid.FacetGrid at 0x7f49ec71d978>"
      ]
     },
     "execution_count": 103,
     "metadata": {},
     "output_type": "execute_result"
    },
    {
     "data": {
      "image/png": "[encoded data removed]",
      "text/plain": [
       "<Figure size 360x360 with 1 Axes>"
      ]
     },
     "metadata": {},
     "output_type": "display_data"
    }
   ],
   "source": [
    "sns.lmplot('freq', 'll', data)"
   ]
  },
  {
   "cell_type": "code",
   "execution_count": null,
   "metadata": {},
   "outputs": [],
   "source": []
  }
 ],
 "metadata": {
  "kernelspec": {
   "display_name": "Python 3",
   "language": "python",
   "name": "python3"
  },
  "language_info": {
   "codemirror_mode": {
    "name": "ipython",
    "version": 3
   },
   "file_extension": ".py",
   "mimetype": "text/x-python",
   "name": "python",
   "nbconvert_exporter": "python",
   "pygments_lexer": "ipython3",
   "version": "3.6.9"
  }
 },
 "nbformat": 4,
 "nbformat_minor": 2
}
