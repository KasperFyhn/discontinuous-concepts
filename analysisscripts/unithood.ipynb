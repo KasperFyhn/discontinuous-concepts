{
 "cells": [
  {
   "cell_type": "markdown",
   "metadata": {},
   "source": [
    "# Analysis of unithood"
   ]
  },
  {
   "cell_type": "markdown",
   "metadata": {},
   "source": [
    "This notebook contains most parts of the analysis on unithood, the strength of association between components of concepts."
   ]
  },
  {
   "cell_type": "code",
   "execution_count": 1,
   "metadata": {},
   "outputs": [],
   "source": [
    "import utils  # a python module in the same dir as the notebooks\n",
    "import seaborn as sns"
   ]
  },
  {
   "cell_type": "code",
   "execution_count": 2,
   "metadata": {},
   "outputs": [],
   "source": [
    "CORPUS_NAME = 'genia'\n",
    "MODEL_NAME = CORPUS_NAME + ''\n",
    "MODEL_SPEC = '_min2_l10'\n",
    "FREQ_THRESHOLD = 4\n",
    "\n",
    "INCLUDE_MESH_TERMS = True\n",
    "FILTER_STOP_WORDS = True\n",
    "FILTER_PUNCTUATION = True"
   ]
  },
  {
   "cell_type": "code",
   "execution_count": 3,
   "metadata": {},
   "outputs": [
    {
     "name": "stdout",
     "output_type": "stream",
     "text": [
      "Loading n-gram model\n",
      "Loading GENIA corpus ... NOTE: 13 files cannot get Constituent annotations!\n"
     ]
    },
    {
     "name": "stderr",
     "output_type": "stream",
     "text": [
      "100%|██████████| 1599/1599 [00:13<00:00, 115.46it/s]\n"
     ]
    }
   ],
   "source": [
    "import os\n",
    "os.chdir(utils.ROOT)  # get to the root directory of the project\n",
    "\n",
    "from datautils import dataio, annotations as anno\n",
    "from stats import ngramcounting\n",
    "\n",
    "# load the corpus\n",
    "print('Loading n-gram model', flush=True)\n",
    "model = ngramcounting.NgramModel.load_model(MODEL_NAME, MODEL_SPEC)\n",
    "\n",
    "if CORPUS_NAME.lower() == 'pmc':\n",
    "    corpus = dataio.load_craft_corpus() + dataio.load_genia_corpus()\n",
    "else:\n",
    "    corpus = dataio.load_corpus(CORPUS_NAME.lower())"
   ]
  },
  {
   "cell_type": "markdown",
   "metadata": {},
   "source": [
    "## Question 1: How strong is the association in regular concepts?"
   ]
  },
  {
   "cell_type": "code",
   "execution_count": 4,
   "metadata": {},
   "outputs": [
    {
     "name": "stdout",
     "output_type": "stream",
     "text": [
      "Retrieving gold standard concepts ... Skipped 3 concepts not bounded at tokens boundaries and filtered out 0 with the POS-tag filter: None\n"
     ]
    }
   ],
   "source": [
    "# get all continuous concepts\n",
    "\n",
    "from stats import conceptstats\n",
    "cont_concepts = conceptstats.gold_standard_concepts(corpus, discontinuous=False)"
   ]
  },
  {
   "cell_type": "code",
   "execution_count": 5,
   "metadata": {},
   "outputs": [
    {
     "data": {
      "text/plain": [
       "22620"
      ]
     },
     "execution_count": 5,
     "metadata": {},
     "output_type": "execute_result"
    }
   ],
   "source": [
    "len(cont_concepts)"
   ]
  },
  {
   "cell_type": "code",
   "execution_count": 6,
   "metadata": {},
   "outputs": [],
   "source": [
    "import nltk\n",
    "concept_bigrams = {bigram for concept in cont_concepts for bigram in nltk.bigrams(concept)}"
   ]
  },
  {
   "cell_type": "code",
   "execution_count": 7,
   "metadata": {},
   "outputs": [
    {
     "name": "stdout",
     "output_type": "stream",
     "text": [
      "Loading MeSH terms ...\n"
     ]
    }
   ],
   "source": [
    "if INCLUDE_MESH_TERMS:\n",
    "    concept_bigrams.update(\n",
    "    {bigram for concept in dataio.load_mesh_terms()\n",
    "     for bigram in nltk.bigrams(concept)}\n",
    "    )\n",
    "if FILTER_STOP_WORDS:\n",
    "    stopwords = set(nltk.corpus.stopwords.words('english'))\n",
    "    concept_bigrams = {bg for bg in concept_bigrams\n",
    "                      if not (bg[0] in stopwords or bg[1] in stopwords)}\n",
    "if FILTER_PUNCTUATION:\n",
    "    import string\n",
    "    punct = string.punctuation\n",
    "    concept_bigrams = {bg for bg in concept_bigrams\n",
    "                      if not (bg[0] in punct or bg[1] in punct)}"
   ]
  },
  {
   "cell_type": "code",
   "execution_count": 8,
   "metadata": {},
   "outputs": [],
   "source": [
    "import pandas as pd\n",
    "import math\n",
    "\n",
    "# now, loop over all bigrams in the n-gram model, measure their association\n",
    "# and note whether they occur in a concept or not\n",
    "\n",
    "data_dict = {'bigram': [], 'in_concept': [],  'pmi': [], 'll': [], 'freq': []}\n",
    "\n",
    "for bigram_pattern, count in model.iterate(2, threshold=FREQ_THRESHOLD,\n",
    "                                           encoded_patterns=True):\n",
    "    \n",
    "    bigram = model.decode_pattern(bigram_pattern)\n",
    "    data_dict['bigram'].append(bigram)\n",
    "    \n",
    "    data_dict['freq'].append(count)\n",
    "    \n",
    "    word_a = bigram_pattern[0]\n",
    "    word_b = bigram_pattern[1]\n",
    "    contingency_table = model.contingency_table(word_a, word_b)\n",
    "    pmi = conceptstats.pointwise_mutual_information(contingency_table)\n",
    "    data_dict['pmi'].append(pmi)\n",
    "    ll = conceptstats.log_likelihood_ratio(contingency_table)\n",
    "    data_dict['ll'].append(ll)\n",
    "    \n",
    "    data_dict['in_concept'].append(bigram in concept_bigrams)\n",
    "\n",
    "\n",
    "data = pd.DataFrame(data_dict)"
   ]
  },
  {
   "cell_type": "code",
   "execution_count": 9,
   "metadata": {},
   "outputs": [
    {
     "data": {
      "text/plain": [
       "250767"
      ]
     },
     "execution_count": 9,
     "metadata": {},
     "output_type": "execute_result"
    }
   ],
   "source": [
    "sum(data.freq)"
   ]
  },
  {
   "cell_type": "code",
   "execution_count": 10,
   "metadata": {},
   "outputs": [
    {
     "name": "stdout",
     "output_type": "stream",
     "text": [
      "Outside: 11735\n",
      "Inside: 3311\n"
     ]
    }
   ],
   "source": [
    "# number of bigram types:\n",
    "print('Outside:', len(data[data['in_concept'] == False]))\n",
    "print('Inside:', len(data[data['in_concept'] == True]))"
   ]
  },
  {
   "cell_type": "code",
   "execution_count": 11,
   "metadata": {},
   "outputs": [
    {
     "data": {
      "text/plain": [
       "<matplotlib.axes._subplots.AxesSubplot at 0x7f72c079e240>"
      ]
     },
     "execution_count": 11,
     "metadata": {},
     "output_type": "execute_result"
    },
    {
     "data": {
      "image/png": "[encoded data removed]",
      "text/plain": [
       "<Figure size 432x288 with 1 Axes>"
      ]
     },
     "metadata": {},
     "output_type": "display_data"
    }
   ],
   "source": [
    "import seaborn as sns\n",
    "sns.boxplot(x='in_concept', y='pmi', data=data, showfliers=False)"
   ]
  },
  {
   "cell_type": "code",
   "execution_count": 12,
   "metadata": {},
   "outputs": [
    {
     "name": "stdout",
     "output_type": "stream",
     "text": [
      "\\begin{axis}[boxplot/draw direction=y, xtick={1, 2}, xticklabels={False, True}]\n",
      "\\addplot+ [boxplot prepared={lower whisker=-1.88, lower quartile=0.85, median=1.64, upper quartile=2.59, upper whisker=5.43}] coordinates {};\n",
      "\\addplot+ [boxplot prepared={lower whisker=-1.55, lower quartile=2.98, median=4.23, upper quartile=6.00, upper whisker=10.55}] coordinates {};\n",
      "\\end{axis}\n"
     ]
    }
   ],
   "source": [
    "print(utils.prepare_comparable_latex_boxplots('in_concept', 'pmi', data))"
   ]
  },
  {
   "cell_type": "code",
   "execution_count": 13,
   "metadata": {},
   "outputs": [
    {
     "data": {
      "text/html": [
       "<div>\n",
       "<style scoped>\n",
       "    .dataframe tbody tr th:only-of-type {\n",
       "        vertical-align: middle;\n",
       "    }\n",
       "\n",
       "    .dataframe tbody tr th {\n",
       "        vertical-align: top;\n",
       "    }\n",
       "\n",
       "    .dataframe thead th {\n",
       "        text-align: right;\n",
       "    }\n",
       "</style>\n",
       "<table border=\"1\" class=\"dataframe\">\n",
       "  <thead>\n",
       "    <tr style=\"text-align: right;\">\n",
       "      <th></th>\n",
       "      <th>bigram</th>\n",
       "      <th>in_concept</th>\n",
       "      <th>pmi</th>\n",
       "      <th>ll</th>\n",
       "      <th>freq</th>\n",
       "    </tr>\n",
       "  </thead>\n",
       "  <tbody>\n",
       "    <tr>\n",
       "      <th>9067</th>\n",
       "      <td>(protein, gene)</td>\n",
       "      <td>True</td>\n",
       "      <td>-0.831057</td>\n",
       "      <td>6.572340</td>\n",
       "      <td>6</td>\n",
       "    </tr>\n",
       "    <tr>\n",
       "      <th>3513</th>\n",
       "      <td>(activate, cell)</td>\n",
       "      <td>True</td>\n",
       "      <td>-0.841367</td>\n",
       "      <td>6.801217</td>\n",
       "      <td>6</td>\n",
       "    </tr>\n",
       "    <tr>\n",
       "      <th>7306</th>\n",
       "      <td>(transcription, protein)</td>\n",
       "      <td>True</td>\n",
       "      <td>-0.868409</td>\n",
       "      <td>5.192191</td>\n",
       "      <td>4</td>\n",
       "    </tr>\n",
       "    <tr>\n",
       "      <th>11702</th>\n",
       "      <td>(factor, protein)</td>\n",
       "      <td>True</td>\n",
       "      <td>-0.954568</td>\n",
       "      <td>6.487292</td>\n",
       "      <td>4</td>\n",
       "    </tr>\n",
       "    <tr>\n",
       "      <th>275</th>\n",
       "      <td>(activation, gene)</td>\n",
       "      <td>True</td>\n",
       "      <td>-0.989281</td>\n",
       "      <td>7.063973</td>\n",
       "      <td>4</td>\n",
       "    </tr>\n",
       "    <tr>\n",
       "      <th>8261</th>\n",
       "      <td>(cell, activity)</td>\n",
       "      <td>True</td>\n",
       "      <td>-1.141170</td>\n",
       "      <td>16.079193</td>\n",
       "      <td>7</td>\n",
       "    </tr>\n",
       "    <tr>\n",
       "      <th>11649</th>\n",
       "      <td>(cell, transcription)</td>\n",
       "      <td>True</td>\n",
       "      <td>-1.344336</td>\n",
       "      <td>27.278594</td>\n",
       "      <td>8</td>\n",
       "    </tr>\n",
       "    <tr>\n",
       "      <th>10998</th>\n",
       "      <td>(cell, factor)</td>\n",
       "      <td>True</td>\n",
       "      <td>-1.548278</td>\n",
       "      <td>35.030178</td>\n",
       "      <td>7</td>\n",
       "    </tr>\n",
       "    <tr>\n",
       "      <th>2217</th>\n",
       "      <td>(cell, protein)</td>\n",
       "      <td>True</td>\n",
       "      <td>-1.780015</td>\n",
       "      <td>44.790608</td>\n",
       "      <td>6</td>\n",
       "    </tr>\n",
       "    <tr>\n",
       "      <th>6214</th>\n",
       "      <td>(cell, gene)</td>\n",
       "      <td>True</td>\n",
       "      <td>-1.894770</td>\n",
       "      <td>53.423161</td>\n",
       "      <td>6</td>\n",
       "    </tr>\n",
       "  </tbody>\n",
       "</table>\n",
       "</div>"
      ],
      "text/plain": [
       "                         bigram  in_concept       pmi         ll  freq\n",
       "9067            (protein, gene)        True -0.831057   6.572340     6\n",
       "3513           (activate, cell)        True -0.841367   6.801217     6\n",
       "7306   (transcription, protein)        True -0.868409   5.192191     4\n",
       "11702         (factor, protein)        True -0.954568   6.487292     4\n",
       "275          (activation, gene)        True -0.989281   7.063973     4\n",
       "8261           (cell, activity)        True -1.141170  16.079193     7\n",
       "11649     (cell, transcription)        True -1.344336  27.278594     8\n",
       "10998            (cell, factor)        True -1.548278  35.030178     7\n",
       "2217            (cell, protein)        True -1.780015  44.790608     6\n",
       "6214               (cell, gene)        True -1.894770  53.423161     6"
      ]
     },
     "execution_count": 13,
     "metadata": {},
     "output_type": "execute_result"
    }
   ],
   "source": [
    "data[(data['in_concept'] == True)].sort_values('pmi', ascending=False).tail(10)\n",
    "#  & (data['pmi'] < 0)"
   ]
  },
  {
   "cell_type": "code",
   "execution_count": 14,
   "metadata": {},
   "outputs": [
    {
     "data": {
      "text/plain": [
       "<matplotlib.axes._subplots.AxesSubplot at 0x7f729f03ea20>"
      ]
     },
     "execution_count": 14,
     "metadata": {},
     "output_type": "execute_result"
    },
    {
     "data": {
      "image/png": "[encoded data removed]",
      "text/plain": [
       "<Figure size 432x288 with 1 Axes>"
      ]
     },
     "metadata": {},
     "output_type": "display_data"
    }
   ],
   "source": [
    "sns.boxplot(x='in_concept', y='ll', data=data, showfliers=False)"
   ]
  },
  {
   "cell_type": "code",
   "execution_count": 15,
   "metadata": {},
   "outputs": [
    {
     "name": "stdout",
     "output_type": "stream",
     "text": [
      "\\begin{axis}[boxplot/draw direction=y, xtick={1, 2}, xticklabels={False, True}]\n",
      "\\addplot+ [boxplot prepared={lower whisker=0.00, lower quartile=5.42, median=14.97, upper quartile=30.32, upper whisker=89.54}] coordinates {};\n",
      "\\addplot+ [boxplot prepared={lower whisker=0.00, lower quartile=28.20, median=50.87, upper quartile=84.06, upper whisker=203.99}] coordinates {};\n",
      "\\end{axis}\n"
     ]
    }
   ],
   "source": [
    "print(utils.prepare_comparable_latex_boxplots('in_concept', 'll', data))"
   ]
  },
  {
   "cell_type": "code",
   "execution_count": 16,
   "metadata": {},
   "outputs": [
    {
     "data": {
      "text/html": [
       "<div>\n",
       "<style scoped>\n",
       "    .dataframe tbody tr th:only-of-type {\n",
       "        vertical-align: middle;\n",
       "    }\n",
       "\n",
       "    .dataframe tbody tr th {\n",
       "        vertical-align: top;\n",
       "    }\n",
       "\n",
       "    .dataframe thead th {\n",
       "        text-align: right;\n",
       "    }\n",
       "</style>\n",
       "<table border=\"1\" class=\"dataframe\">\n",
       "  <thead>\n",
       "    <tr style=\"text-align: right;\">\n",
       "      <th></th>\n",
       "      <th>bigram</th>\n",
       "      <th>in_concept</th>\n",
       "      <th>pmi</th>\n",
       "      <th>ll</th>\n",
       "      <th>freq</th>\n",
       "    </tr>\n",
       "  </thead>\n",
       "  <tbody>\n",
       "    <tr>\n",
       "      <th>6930</th>\n",
       "      <td>(activate, gene)</td>\n",
       "      <td>True</td>\n",
       "      <td>0.107591</td>\n",
       "      <td>0.078955</td>\n",
       "      <td>6</td>\n",
       "    </tr>\n",
       "    <tr>\n",
       "      <th>3585</th>\n",
       "      <td>(expression, study)</td>\n",
       "      <td>True</td>\n",
       "      <td>0.074766</td>\n",
       "      <td>0.033017</td>\n",
       "      <td>5</td>\n",
       "    </tr>\n",
       "    <tr>\n",
       "      <th>10108</th>\n",
       "      <td>(stimulate, cell)</td>\n",
       "      <td>True</td>\n",
       "      <td>0.063665</td>\n",
       "      <td>0.024269</td>\n",
       "      <td>5</td>\n",
       "    </tr>\n",
       "    <tr>\n",
       "      <th>6853</th>\n",
       "      <td>(b, level)</td>\n",
       "      <td>True</td>\n",
       "      <td>0.058358</td>\n",
       "      <td>0.020222</td>\n",
       "      <td>5</td>\n",
       "    </tr>\n",
       "    <tr>\n",
       "      <th>880</th>\n",
       "      <td>(cell, nuclear)</td>\n",
       "      <td>True</td>\n",
       "      <td>-0.028405</td>\n",
       "      <td>0.014129</td>\n",
       "      <td>16</td>\n",
       "    </tr>\n",
       "    <tr>\n",
       "      <th>10130</th>\n",
       "      <td>(beta, cell)</td>\n",
       "      <td>True</td>\n",
       "      <td>-0.050559</td>\n",
       "      <td>0.013239</td>\n",
       "      <td>4</td>\n",
       "    </tr>\n",
       "    <tr>\n",
       "      <th>11361</th>\n",
       "      <td>(receptor, activation)</td>\n",
       "      <td>True</td>\n",
       "      <td>0.038634</td>\n",
       "      <td>0.011897</td>\n",
       "      <td>7</td>\n",
       "    </tr>\n",
       "    <tr>\n",
       "      <th>1182</th>\n",
       "      <td>(level, expression)</td>\n",
       "      <td>True</td>\n",
       "      <td>0.042130</td>\n",
       "      <td>0.010596</td>\n",
       "      <td>5</td>\n",
       "    </tr>\n",
       "    <tr>\n",
       "      <th>12377</th>\n",
       "      <td>(cell, signaling)</td>\n",
       "      <td>True</td>\n",
       "      <td>-0.026216</td>\n",
       "      <td>0.004238</td>\n",
       "      <td>5</td>\n",
       "    </tr>\n",
       "    <tr>\n",
       "      <th>13762</th>\n",
       "      <td>(factor, activation)</td>\n",
       "      <td>True</td>\n",
       "      <td>0.012137</td>\n",
       "      <td>0.001631</td>\n",
       "      <td>10</td>\n",
       "    </tr>\n",
       "  </tbody>\n",
       "</table>\n",
       "</div>"
      ],
      "text/plain": [
       "                       bigram  in_concept       pmi        ll  freq\n",
       "6930         (activate, gene)        True  0.107591  0.078955     6\n",
       "3585      (expression, study)        True  0.074766  0.033017     5\n",
       "10108       (stimulate, cell)        True  0.063665  0.024269     5\n",
       "6853               (b, level)        True  0.058358  0.020222     5\n",
       "880           (cell, nuclear)        True -0.028405  0.014129    16\n",
       "10130            (beta, cell)        True -0.050559  0.013239     4\n",
       "11361  (receptor, activation)        True  0.038634  0.011897     7\n",
       "1182      (level, expression)        True  0.042130  0.010596     5\n",
       "12377       (cell, signaling)        True -0.026216  0.004238     5\n",
       "13762    (factor, activation)        True  0.012137  0.001631    10"
      ]
     },
     "execution_count": 16,
     "metadata": {},
     "output_type": "execute_result"
    }
   ],
   "source": [
    "data[(data['in_concept'] == True)].sort_values('ll', ascending=False).tail(10)"
   ]
  },
  {
   "cell_type": "code",
   "execution_count": 17,
   "metadata": {},
   "outputs": [],
   "source": [
    "# we can perform t-tests etc.\n",
    "import pingouin"
   ]
  },
  {
   "cell_type": "code",
   "execution_count": 18,
   "metadata": {},
   "outputs": [
    {
     "name": "stderr",
     "output_type": "stream",
     "text": [
      "/home/kasper/.local/lib/python3.6/site-packages/pingouin/bayesian.py:151: RuntimeWarning: divide by zero encountered in double_scalars\n",
      "  bf10 = 1 / ((1 + t**2 / df)**(-(df + 1) / 2) / integr)\n"
     ]
    },
    {
     "data": {
      "text/html": [
       "<div>\n",
       "<style scoped>\n",
       "    .dataframe tbody tr th:only-of-type {\n",
       "        vertical-align: middle;\n",
       "    }\n",
       "\n",
       "    .dataframe tbody tr th {\n",
       "        vertical-align: top;\n",
       "    }\n",
       "\n",
       "    .dataframe thead th {\n",
       "        text-align: right;\n",
       "    }\n",
       "</style>\n",
       "<table border=\"1\" class=\"dataframe\">\n",
       "  <thead>\n",
       "    <tr style=\"text-align: right;\">\n",
       "      <th></th>\n",
       "      <th>T</th>\n",
       "      <th>dof</th>\n",
       "      <th>tail</th>\n",
       "      <th>p-val</th>\n",
       "      <th>CI95%</th>\n",
       "      <th>cohen-d</th>\n",
       "      <th>BF10</th>\n",
       "      <th>power</th>\n",
       "    </tr>\n",
       "  </thead>\n",
       "  <tbody>\n",
       "    <tr>\n",
       "      <th>T-test</th>\n",
       "      <td>64.294</td>\n",
       "      <td>4279.98</td>\n",
       "      <td>greater</td>\n",
       "      <td>0.0</td>\n",
       "      <td>[2.64, inf]</td>\n",
       "      <td>1.53</td>\n",
       "      <td>inf</td>\n",
       "      <td>1.0</td>\n",
       "    </tr>\n",
       "  </tbody>\n",
       "</table>\n",
       "</div>"
      ],
      "text/plain": [
       "             T      dof     tail  p-val        CI95%  cohen-d BF10  power\n",
       "T-test  64.294  4279.98  greater    0.0  [2.64, inf]     1.53  inf    1.0"
      ]
     },
     "execution_count": 18,
     "metadata": {},
     "output_type": "execute_result"
    }
   ],
   "source": [
    "pingouin.ttest(list(data[data['in_concept'] == True]['pmi']),\n",
    "               list(data[data['in_concept'] == False]['pmi']),\n",
    "               tail='greater',\n",
    "               correction=True)"
   ]
  },
  {
   "cell_type": "code",
   "execution_count": 19,
   "metadata": {},
   "outputs": [
    {
     "data": {
      "text/html": [
       "<div>\n",
       "<style scoped>\n",
       "    .dataframe tbody tr th:only-of-type {\n",
       "        vertical-align: middle;\n",
       "    }\n",
       "\n",
       "    .dataframe tbody tr th {\n",
       "        vertical-align: top;\n",
       "    }\n",
       "\n",
       "    .dataframe thead th {\n",
       "        text-align: right;\n",
       "    }\n",
       "</style>\n",
       "<table border=\"1\" class=\"dataframe\">\n",
       "  <thead>\n",
       "    <tr style=\"text-align: right;\">\n",
       "      <th></th>\n",
       "      <th>U-val</th>\n",
       "      <th>tail</th>\n",
       "      <th>p-val</th>\n",
       "      <th>RBC</th>\n",
       "      <th>CLES</th>\n",
       "    </tr>\n",
       "  </thead>\n",
       "  <tbody>\n",
       "    <tr>\n",
       "      <th>MWU</th>\n",
       "      <td>32888081.0</td>\n",
       "      <td>two-sided</td>\n",
       "      <td>0.0</td>\n",
       "      <td>-0.693</td>\n",
       "      <td>0.846</td>\n",
       "    </tr>\n",
       "  </tbody>\n",
       "</table>\n",
       "</div>"
      ],
      "text/plain": [
       "          U-val       tail  p-val    RBC   CLES\n",
       "MWU  32888081.0  two-sided    0.0 -0.693  0.846"
      ]
     },
     "execution_count": 19,
     "metadata": {},
     "output_type": "execute_result"
    }
   ],
   "source": [
    "pingouin.mwu(list(data[data['in_concept'] == True]['pmi']),\n",
    "             list(data[data['in_concept'] == False]['pmi']))"
   ]
  },
  {
   "cell_type": "code",
   "execution_count": 20,
   "metadata": {},
   "outputs": [
    {
     "data": {
      "text/html": [
       "<div>\n",
       "<style scoped>\n",
       "    .dataframe tbody tr th:only-of-type {\n",
       "        vertical-align: middle;\n",
       "    }\n",
       "\n",
       "    .dataframe tbody tr th {\n",
       "        vertical-align: top;\n",
       "    }\n",
       "\n",
       "    .dataframe thead th {\n",
       "        text-align: right;\n",
       "    }\n",
       "</style>\n",
       "<table border=\"1\" class=\"dataframe\">\n",
       "  <thead>\n",
       "    <tr style=\"text-align: right;\">\n",
       "      <th></th>\n",
       "      <th>T</th>\n",
       "      <th>dof</th>\n",
       "      <th>tail</th>\n",
       "      <th>p-val</th>\n",
       "      <th>CI95%</th>\n",
       "      <th>cohen-d</th>\n",
       "      <th>BF10</th>\n",
       "      <th>power</th>\n",
       "    </tr>\n",
       "  </thead>\n",
       "  <tbody>\n",
       "    <tr>\n",
       "      <th>T-test</th>\n",
       "      <td>10.029</td>\n",
       "      <td>4054.35</td>\n",
       "      <td>greater</td>\n",
       "      <td>1.060333e-23</td>\n",
       "      <td>[49.98, inf]</td>\n",
       "      <td>0.254</td>\n",
       "      <td>2.428e+20</td>\n",
       "      <td>1.0</td>\n",
       "    </tr>\n",
       "  </tbody>\n",
       "</table>\n",
       "</div>"
      ],
      "text/plain": [
       "             T      dof     tail         p-val         CI95%  cohen-d  \\\n",
       "T-test  10.029  4054.35  greater  1.060333e-23  [49.98, inf]    0.254   \n",
       "\n",
       "             BF10  power  \n",
       "T-test  2.428e+20    1.0  "
      ]
     },
     "execution_count": 20,
     "metadata": {},
     "output_type": "execute_result"
    }
   ],
   "source": [
    "pingouin.ttest(list(data[data['in_concept'] == True]['ll']),\n",
    "               list(data[data['in_concept'] == False]['ll']),\n",
    "               tail='greater',\n",
    "               correction=True)"
   ]
  },
  {
   "cell_type": "code",
   "execution_count": 21,
   "metadata": {},
   "outputs": [
    {
     "data": {
      "text/html": [
       "<div>\n",
       "<style scoped>\n",
       "    .dataframe tbody tr th:only-of-type {\n",
       "        vertical-align: middle;\n",
       "    }\n",
       "\n",
       "    .dataframe tbody tr th {\n",
       "        vertical-align: top;\n",
       "    }\n",
       "\n",
       "    .dataframe thead th {\n",
       "        text-align: right;\n",
       "    }\n",
       "</style>\n",
       "<table border=\"1\" class=\"dataframe\">\n",
       "  <thead>\n",
       "    <tr style=\"text-align: right;\">\n",
       "      <th></th>\n",
       "      <th>U-val</th>\n",
       "      <th>tail</th>\n",
       "      <th>p-val</th>\n",
       "      <th>RBC</th>\n",
       "      <th>CLES</th>\n",
       "    </tr>\n",
       "  </thead>\n",
       "  <tbody>\n",
       "    <tr>\n",
       "      <th>MWU</th>\n",
       "      <td>29654185.0</td>\n",
       "      <td>two-sided</td>\n",
       "      <td>0.0</td>\n",
       "      <td>-0.526</td>\n",
       "      <td>0.763</td>\n",
       "    </tr>\n",
       "  </tbody>\n",
       "</table>\n",
       "</div>"
      ],
      "text/plain": [
       "          U-val       tail  p-val    RBC   CLES\n",
       "MWU  29654185.0  two-sided    0.0 -0.526  0.763"
      ]
     },
     "execution_count": 21,
     "metadata": {},
     "output_type": "execute_result"
    }
   ],
   "source": [
    "pingouin.mwu(list(data[data['in_concept'] == True]['ll']),\n",
    "             list(data[data['in_concept'] == False]['ll']))"
   ]
  },
  {
   "cell_type": "code",
   "execution_count": null,
   "metadata": {},
   "outputs": [],
   "source": []
  },
  {
   "cell_type": "markdown",
   "metadata": {},
   "source": [
    "Conclusion: concept bigrams _do_ have higher association."
   ]
  },
  {
   "cell_type": "markdown",
   "metadata": {},
   "source": [
    "## Question 2: How does it look for bigrams in DC's?"
   ]
  },
  {
   "cell_type": "code",
   "execution_count": 22,
   "metadata": {},
   "outputs": [
    {
     "name": "stdout",
     "output_type": "stream",
     "text": [
      "Retrieving gold standard concepts ... Skipped 0 concepts not bounded at tokens boundaries and filtered out 0 with the POS-tag filter: None\n"
     ]
    }
   ],
   "source": [
    "disc_concepts = conceptstats.gold_standard_concepts(corpus, continuous=False,\n",
    "                                                    discontinuous=True)\n",
    "dc_bigrams = {bigram for concept in disc_concepts for bigram in nltk.bigrams(concept)}"
   ]
  },
  {
   "cell_type": "code",
   "execution_count": 23,
   "metadata": {},
   "outputs": [],
   "source": [
    "if FILTER_STOP_WORDS:\n",
    "    stopwords = set(nltk.corpus.stopwords.words('english'))\n",
    "    dc_bigrams = {bg for bg in dc_bigrams\n",
    "                  if not (bg[0] in stopwords or bg[1] in stopwords)}\n",
    "if FILTER_PUNCTUATION:\n",
    "    import string\n",
    "    punct = string.punctuation\n",
    "    dc_bigrams = {bg for bg in dc_bigrams\n",
    "                  if not (bg[0] in punct or bg[1] in punct)}"
   ]
  },
  {
   "cell_type": "code",
   "execution_count": 24,
   "metadata": {},
   "outputs": [],
   "source": [
    "import pandas as pd\n",
    "\n",
    "# now, loop over all bigrams in the n-gram model, measure their association\n",
    "# and note whether they occur in a concept or not\n",
    "\n",
    "data_dict = {'bigram': [], 'type': [],  'pmi': [], 'll': [], 'freq': []}\n",
    "\n",
    "for bigram_pattern, count in model.iterate(2, threshold=FREQ_THRESHOLD,\n",
    "                                           encoded_patterns=True):\n",
    "    \n",
    "    bigram = model.decode_pattern(bigram_pattern)\n",
    "    data_dict['bigram'].append(bigram)\n",
    "    \n",
    "    data_dict['freq'].append(count)\n",
    "    \n",
    "    word_a = bigram_pattern[0]\n",
    "    word_b = bigram_pattern[1]\n",
    "    contingency_table = model.contingency_table(word_a, word_b)\n",
    "    pmi = conceptstats.pointwise_mutual_information(contingency_table)\n",
    "    data_dict['pmi'].append(pmi)\n",
    "    ll = conceptstats.log_likelihood_ratio(contingency_table)\n",
    "    data_dict['ll'].append(ll)\n",
    "    \n",
    "    if bigram in concept_bigrams:\n",
    "        if bigram in dc_bigrams:\n",
    "            bigram_type = 'both'\n",
    "        else:\n",
    "            bigram_type = 'only_CC'\n",
    "    elif bigram in dc_bigrams:\n",
    "        bigram_type = 'only_DC'\n",
    "    else:\n",
    "        bigram_type = 'neither'\n",
    "    \n",
    "    data_dict['type'].append(bigram_type)\n",
    "\n",
    "\n",
    "data = pd.DataFrame(data_dict)"
   ]
  },
  {
   "cell_type": "code",
   "execution_count": 25,
   "metadata": {},
   "outputs": [
    {
     "data": {
      "text/plain": [
       "<matplotlib.axes._subplots.AxesSubplot at 0x7f729ea38710>"
      ]
     },
     "execution_count": 25,
     "metadata": {},
     "output_type": "execute_result"
    },
    {
     "data": {
      "image/png": "[encoded data removed]",
      "text/plain": [
       "<Figure size 432x288 with 1 Axes>"
      ]
     },
     "metadata": {},
     "output_type": "display_data"
    }
   ],
   "source": [
    "sns.boxplot(x='type', y='pmi', data=data, showfliers=False)"
   ]
  },
  {
   "cell_type": "code",
   "execution_count": 31,
   "metadata": {},
   "outputs": [
    {
     "name": "stdout",
     "output_type": "stream",
     "text": [
      "\\begin{axis}[boxplot/draw direction=y, xtick={1, 2, 3, 4}, xticklabels={neither, only_DC, only_CC, both}]\n",
      "\\addplot+ [boxplot prepared={lower whisker=-1.88, lower quartile=0.85, median=1.64, upper quartile=2.59, upper whisker=5.43}] coordinates {};\n",
      "\\addplot+ [boxplot prepared={lower whisker=3.51, lower quartile=4.14, median=4.76, upper quartile=5.39, upper whisker=6.02}] coordinates {};\n",
      "\\addplot+ [boxplot prepared={lower whisker=-1.55, lower quartile=3.11, median=4.45, upper quartile=6.20, upper whisker=10.76}] coordinates {};\n",
      "\\addplot+ [boxplot prepared={lower whisker=-0.84, lower quartile=2.51, median=3.57, upper quartile=4.97, upper whisker=8.76}] coordinates {};\n",
      "\\end{axis}\n"
     ]
    }
   ],
   "source": [
    "print(utils.prepare_comparable_latex_boxplots('type', 'pmi', data))"
   ]
  },
  {
   "cell_type": "code",
   "execution_count": 33,
   "metadata": {},
   "outputs": [
    {
     "data": {
      "text/html": [
       "<div>\n",
       "<style scoped>\n",
       "    .dataframe tbody tr th:only-of-type {\n",
       "        vertical-align: middle;\n",
       "    }\n",
       "\n",
       "    .dataframe tbody tr th {\n",
       "        vertical-align: top;\n",
       "    }\n",
       "\n",
       "    .dataframe thead th {\n",
       "        text-align: right;\n",
       "    }\n",
       "</style>\n",
       "<table border=\"1\" class=\"dataframe\">\n",
       "  <thead>\n",
       "    <tr style=\"text-align: right;\">\n",
       "      <th></th>\n",
       "      <th>Source</th>\n",
       "      <th>ddof1</th>\n",
       "      <th>H</th>\n",
       "      <th>p-unc</th>\n",
       "    </tr>\n",
       "  </thead>\n",
       "  <tbody>\n",
       "    <tr>\n",
       "      <th>Kruskal</th>\n",
       "      <td>type</td>\n",
       "      <td>3</td>\n",
       "      <td>3749.289</td>\n",
       "      <td>0.0</td>\n",
       "    </tr>\n",
       "  </tbody>\n",
       "</table>\n",
       "</div>"
      ],
      "text/plain": [
       "        Source  ddof1         H  p-unc\n",
       "Kruskal   type      3  3749.289    0.0"
      ]
     },
     "execution_count": 33,
     "metadata": {},
     "output_type": "execute_result"
    }
   ],
   "source": [
    "pingouin.kruskal(data, 'pmi', 'type')"
   ]
  },
  {
   "cell_type": "code",
   "execution_count": 39,
   "metadata": {},
   "outputs": [
    {
     "data": {
      "text/html": [
       "<div>\n",
       "<style scoped>\n",
       "    .dataframe tbody tr th:only-of-type {\n",
       "        vertical-align: middle;\n",
       "    }\n",
       "\n",
       "    .dataframe tbody tr th {\n",
       "        vertical-align: top;\n",
       "    }\n",
       "\n",
       "    .dataframe thead th {\n",
       "        text-align: right;\n",
       "    }\n",
       "</style>\n",
       "<table border=\"1\" class=\"dataframe\">\n",
       "  <thead>\n",
       "    <tr style=\"text-align: right;\">\n",
       "      <th></th>\n",
       "      <th>T</th>\n",
       "      <th>dof</th>\n",
       "      <th>tail</th>\n",
       "      <th>p-val</th>\n",
       "      <th>CI95%</th>\n",
       "      <th>cohen-d</th>\n",
       "      <th>BF10</th>\n",
       "      <th>power</th>\n",
       "    </tr>\n",
       "  </thead>\n",
       "  <tbody>\n",
       "    <tr>\n",
       "      <th>T-test</th>\n",
       "      <td>9.653</td>\n",
       "      <td>920.23</td>\n",
       "      <td>two-sided</td>\n",
       "      <td>4.558043e-21</td>\n",
       "      <td>[0.71, 1.07]</td>\n",
       "      <td>0.398</td>\n",
       "      <td>3.415e+18</td>\n",
       "      <td>1.0</td>\n",
       "    </tr>\n",
       "  </tbody>\n",
       "</table>\n",
       "</div>"
      ],
      "text/plain": [
       "            T     dof       tail         p-val         CI95%  cohen-d  \\\n",
       "T-test  9.653  920.23  two-sided  4.558043e-21  [0.71, 1.07]    0.398   \n",
       "\n",
       "             BF10  power  \n",
       "T-test  3.415e+18    1.0  "
      ]
     },
     "execution_count": 39,
     "metadata": {},
     "output_type": "execute_result"
    }
   ],
   "source": [
    "pingouin.ttest(list(data[data['type'] == 'only_CC']['pmi']),\n",
    "               list(data[data['type'] == 'both']['pmi']))"
   ]
  },
  {
   "cell_type": "code",
   "execution_count": 41,
   "metadata": {},
   "outputs": [
    {
     "data": {
      "text/html": [
       "<div>\n",
       "<style scoped>\n",
       "    .dataframe tbody tr th:only-of-type {\n",
       "        vertical-align: middle;\n",
       "    }\n",
       "\n",
       "    .dataframe tbody tr th {\n",
       "        vertical-align: top;\n",
       "    }\n",
       "\n",
       "    .dataframe thead th {\n",
       "        text-align: right;\n",
       "    }\n",
       "</style>\n",
       "<table border=\"1\" class=\"dataframe\">\n",
       "  <thead>\n",
       "    <tr style=\"text-align: right;\">\n",
       "      <th></th>\n",
       "      <th>U-val</th>\n",
       "      <th>tail</th>\n",
       "      <th>p-val</th>\n",
       "      <th>RBC</th>\n",
       "      <th>CLES</th>\n",
       "    </tr>\n",
       "  </thead>\n",
       "  <tbody>\n",
       "    <tr>\n",
       "      <th>MWU</th>\n",
       "      <td>944894.5</td>\n",
       "      <td>two-sided</td>\n",
       "      <td>2.707620e-19</td>\n",
       "      <td>-0.241</td>\n",
       "      <td>0.621</td>\n",
       "    </tr>\n",
       "  </tbody>\n",
       "</table>\n",
       "</div>"
      ],
      "text/plain": [
       "        U-val       tail         p-val    RBC   CLES\n",
       "MWU  944894.5  two-sided  2.707620e-19 -0.241  0.621"
      ]
     },
     "execution_count": 41,
     "metadata": {},
     "output_type": "execute_result"
    }
   ],
   "source": [
    "pingouin.mwu(utils.iqr_outlier_filter(utils.filtered_dist(data, 'pmi', 'type', 'only_CC')),\n",
    "               utils.iqr_outlier_filter(utils.filtered_dist(data, 'pmi', 'type', 'both')))"
   ]
  },
  {
   "cell_type": "code",
   "execution_count": 26,
   "metadata": {},
   "outputs": [
    {
     "data": {
      "text/plain": [
       "<matplotlib.axes._subplots.AxesSubplot at 0x7f729efe0e80>"
      ]
     },
     "execution_count": 26,
     "metadata": {},
     "output_type": "execute_result"
    },
    {
     "data": {
      "image/png": "[encoded data removed]",
      "text/plain": [
       "<Figure size 432x288 with 1 Axes>"
      ]
     },
     "metadata": {},
     "output_type": "display_data"
    }
   ],
   "source": [
    "sns.boxplot(x='type', y='ll', data=data, showfliers=False)"
   ]
  },
  {
   "cell_type": "code",
   "execution_count": 32,
   "metadata": {},
   "outputs": [
    {
     "name": "stdout",
     "output_type": "stream",
     "text": [
      "\\begin{axis}[boxplot/draw direction=y, xtick={1, 2, 3, 4}, xticklabels={neither, only_DC, only_CC, both}]\n",
      "\\addplot+ [boxplot prepared={lower whisker=0.00, lower quartile=5.42, median=14.95, upper quartile=30.31, upper whisker=89.35}] coordinates {};\n",
      "\\addplot+ [boxplot prepared={lower whisker=35.97, lower quartile=42.61, median=49.25, upper quartile=55.89, upper whisker=62.52}] coordinates {};\n",
      "\\addplot+ [boxplot prepared={lower whisker=0.00, lower quartile=28.58, median=50.53, upper quartile=82.02, upper whisker=185.24}] coordinates {};\n",
      "\\addplot+ [boxplot prepared={lower whisker=0.00, lower quartile=27.99, median=59.58, upper quartile=127.07, upper whisker=455.59}] coordinates {};\n",
      "\\end{axis}\n"
     ]
    }
   ],
   "source": [
    "print(utils.prepare_comparable_latex_boxplots('type', 'll', data))"
   ]
  },
  {
   "cell_type": "code",
   "execution_count": 27,
   "metadata": {},
   "outputs": [
    {
     "data": {
      "text/html": [
       "<div>\n",
       "<style scoped>\n",
       "    .dataframe tbody tr th:only-of-type {\n",
       "        vertical-align: middle;\n",
       "    }\n",
       "\n",
       "    .dataframe tbody tr th {\n",
       "        vertical-align: top;\n",
       "    }\n",
       "\n",
       "    .dataframe thead th {\n",
       "        text-align: right;\n",
       "    }\n",
       "</style>\n",
       "<table border=\"1\" class=\"dataframe\">\n",
       "  <thead>\n",
       "    <tr style=\"text-align: right;\">\n",
       "      <th></th>\n",
       "      <th>Source</th>\n",
       "      <th>ddof1</th>\n",
       "      <th>H</th>\n",
       "      <th>p-unc</th>\n",
       "    </tr>\n",
       "  </thead>\n",
       "  <tbody>\n",
       "    <tr>\n",
       "      <th>Kruskal</th>\n",
       "      <td>type</td>\n",
       "      <td>3</td>\n",
       "      <td>3749.289</td>\n",
       "      <td>0.0</td>\n",
       "    </tr>\n",
       "  </tbody>\n",
       "</table>\n",
       "</div>"
      ],
      "text/plain": [
       "        Source  ddof1         H  p-unc\n",
       "Kruskal   type      3  3749.289    0.0"
      ]
     },
     "execution_count": 27,
     "metadata": {},
     "output_type": "execute_result"
    }
   ],
   "source": []
  },
  {
   "cell_type": "code",
   "execution_count": 28,
   "metadata": {},
   "outputs": [
    {
     "data": {
      "text/plain": [
       "2"
      ]
     },
     "execution_count": 28,
     "metadata": {},
     "output_type": "execute_result"
    }
   ],
   "source": [
    "# However, notice that\n",
    "len(data[data['type'] == 'only_DC'])"
   ]
  },
  {
   "cell_type": "code",
   "execution_count": 29,
   "metadata": {},
   "outputs": [
    {
     "data": {
      "text/plain": [
       "563"
      ]
     },
     "execution_count": 29,
     "metadata": {},
     "output_type": "execute_result"
    }
   ],
   "source": [
    "# compared to e.g.\n",
    "len(data[data['type'] == 'both'])"
   ]
  },
  {
   "cell_type": "markdown",
   "metadata": {},
   "source": [
    "## Question 3: What is the association across the gap?"
   ]
  },
  {
   "cell_type": "code",
   "execution_count": null,
   "metadata": {},
   "outputs": [],
   "source": []
  },
  {
   "cell_type": "code",
   "execution_count": 42,
   "metadata": {},
   "outputs": [],
   "source": [
    "from collections import defaultdict\n",
    "from itertools import product\n",
    "\n",
    "gap_bigrams = defaultdict(list)\n",
    "cont_bigrams = defaultdict(list)\n",
    "dc_sample = {dc for doc in corpus for dc in doc.get_annotations(anno.DiscontinuousConcept)}\n",
    "for dc in dc_sample:\n",
    "    tokens = dc.get_tokens()\n",
    "    norm_concept = dc.normalized_concept()\n",
    "    spanned_tokens = dc.get_spanned_tokens()\n",
    "    non_dc_tokens = set(spanned_tokens).difference(tokens)\n",
    "    for t in non_dc_tokens:\n",
    "        if t.mapped_pos() == 'c':\n",
    "            cc = t\n",
    "            break\n",
    "    for i in range(len(tokens) - 1):\n",
    "        t1, t2 = tokens[i], tokens[i+1]\n",
    "        bigram = norm_concept[i:i + 2]\n",
    "        if t2.span[0] - t1.span[-1] > 2:\n",
    "            gap_bigrams[bigram].append(dc)\n",
    "\n",
    "        else:\n",
    "            cont_bigrams[bigram].append(dc)"
   ]
  },
  {
   "cell_type": "code",
   "execution_count": 43,
   "metadata": {},
   "outputs": [],
   "source": [
    "data_dict = {'bigram': [], 'freq': [], 'pmi': [], 'll': [], 'type': [], 'in_concept': []}\n",
    "\n",
    "all_bigrams = set.union(set(gap_bigrams.keys()), set(cont_bigrams.keys()))\n",
    "for bigram in all_bigrams:\n",
    "    # skip if not frequent enough\n",
    "    if model.freq(bigram) < FREQ_THRESHOLD:\n",
    "        continue\n",
    "\n",
    "    data_dict['bigram'].append(bigram)\n",
    "    data_dict['freq'].append(model.freq(bigram))\n",
    "\n",
    "    contingency_table = model.contingency_table(bigram[0], bigram[1], smoothing=1)\n",
    "    pmi = conceptstats.pointwise_mutual_information(contingency_table)\n",
    "    data_dict['pmi'].append(pmi)\n",
    "    ll = conceptstats.log_likelihood_ratio(contingency_table)\n",
    "    data_dict['ll'].append(ll)\n",
    "\n",
    "    # how it occurs\n",
    "    if bigram in gap_bigrams:\n",
    "        if bigram in cont_bigrams: \n",
    "            type_ = 'both'\n",
    "        else:\n",
    "            type_ = 'only_gap'\n",
    "    elif bigram in cont_bigrams:\n",
    "        type_ = 'only_cont'\n",
    "    else:\n",
    "        type_ = 'weird'\n",
    "\n",
    "    data_dict['type'].append(type_)\n",
    "    \n",
    "    data_dict['in_concept'].append(bigram in concept_bigrams)\n",
    "\n",
    "data = pd.DataFrame(data_dict)"
   ]
  },
  {
   "cell_type": "markdown",
   "metadata": {},
   "source": [
    "### NOTE\n",
    "\n",
    "That a bigram occurs as `only_gap` means that it occurs only in gap position for DC's. However, those bigrams can just as well occur in CC's as well, thereby getting a high association."
   ]
  },
  {
   "cell_type": "code",
   "execution_count": 44,
   "metadata": {},
   "outputs": [
    {
     "data": {
      "text/plain": [
       "<matplotlib.axes._subplots.AxesSubplot at 0x7f729fcb8dd8>"
      ]
     },
     "execution_count": 44,
     "metadata": {},
     "output_type": "execute_result"
    },
    {
     "data": {
      "image/png": "[encoded data removed]",
      "text/plain": [
       "<Figure size 432x288 with 1 Axes>"
      ]
     },
     "metadata": {},
     "output_type": "display_data"
    }
   ],
   "source": [
    "sns.boxplot(x='type', y='pmi', data=data, showfliers=False)"
   ]
  },
  {
   "cell_type": "code",
   "execution_count": 50,
   "metadata": {},
   "outputs": [
    {
     "data": {
      "text/plain": [
       "239"
      ]
     },
     "execution_count": 50,
     "metadata": {},
     "output_type": "execute_result"
    }
   ],
   "source": [
    "len(data[data['type'] == 'only_gap'])"
   ]
  },
  {
   "cell_type": "code",
   "execution_count": 46,
   "metadata": {},
   "outputs": [
    {
     "data": {
      "text/html": [
       "<div>\n",
       "<style scoped>\n",
       "    .dataframe tbody tr th:only-of-type {\n",
       "        vertical-align: middle;\n",
       "    }\n",
       "\n",
       "    .dataframe tbody tr th {\n",
       "        vertical-align: top;\n",
       "    }\n",
       "\n",
       "    .dataframe thead th {\n",
       "        text-align: right;\n",
       "    }\n",
       "</style>\n",
       "<table border=\"1\" class=\"dataframe\">\n",
       "  <thead>\n",
       "    <tr style=\"text-align: right;\">\n",
       "      <th></th>\n",
       "      <th>Source</th>\n",
       "      <th>ddof1</th>\n",
       "      <th>H</th>\n",
       "      <th>p-unc</th>\n",
       "    </tr>\n",
       "  </thead>\n",
       "  <tbody>\n",
       "    <tr>\n",
       "      <th>Kruskal</th>\n",
       "      <td>type</td>\n",
       "      <td>2</td>\n",
       "      <td>4.638</td>\n",
       "      <td>0.098361</td>\n",
       "    </tr>\n",
       "  </tbody>\n",
       "</table>\n",
       "</div>"
      ],
      "text/plain": [
       "        Source  ddof1      H     p-unc\n",
       "Kruskal   type      2  4.638  0.098361"
      ]
     },
     "execution_count": 46,
     "metadata": {},
     "output_type": "execute_result"
    }
   ],
   "source": [
    "pingouin.kruskal(data, 'pmi', 'type')"
   ]
  },
  {
   "cell_type": "code",
   "execution_count": 47,
   "metadata": {},
   "outputs": [
    {
     "data": {
      "text/plain": [
       "<matplotlib.axes._subplots.AxesSubplot at 0x7f729fc9afd0>"
      ]
     },
     "execution_count": 47,
     "metadata": {},
     "output_type": "execute_result"
    },
    {
     "data": {
      "image/png": "[encoded data removed]",
      "text/plain": [
       "<Figure size 432x288 with 1 Axes>"
      ]
     },
     "metadata": {},
     "output_type": "display_data"
    }
   ],
   "source": [
    "sns.boxplot(x='type', y='ll', data=data, showfliers=False)"
   ]
  },
  {
   "cell_type": "code",
   "execution_count": null,
   "metadata": {},
   "outputs": [],
   "source": []
  },
  {
   "cell_type": "markdown",
   "metadata": {},
   "source": [
    "## Question 4: What is the full-term unithood?"
   ]
  },
  {
   "cell_type": "code",
   "execution_count": null,
   "metadata": {},
   "outputs": [],
   "source": [
    "all_concepts = disc_concepts.union(cont_concepts)"
   ]
  },
  {
   "cell_type": "code",
   "execution_count": null,
   "metadata": {},
   "outputs": [],
   "source": [
    "data_dict = {'concept': [], 'type': [],  'pmi_nl': [], 'tc': [], 'freq': [], 'len': []}\n",
    "\n",
    "for concept in all_concepts:\n",
    "    \n",
    "    if model[concept] < FREQ_THRESHOLD:\n",
    "        continue\n",
    "    \n",
    "    data_dict['concept'].append(concept)\n",
    "    \n",
    "    data_dict['freq'].append(model[concept])\n",
    "    \n",
    "    if concept in disc_concepts:\n",
    "        if concept in cont_concepts:\n",
    "            concept_type = 'both'\n",
    "        else:\n",
    "            concept_type = 'only_DC'\n",
    "    else:\n",
    "        concept_type = 'only_CC'\n",
    "    data_dict['type'].append(concept_type)\n",
    "    \n",
    "    data_dict['pmi_nl'].append(conceptstats.length_normalized_pmi(concept, model))\n",
    "    data_dict['tc'].append(conceptstats.term_coherence(concept, model))\n",
    "    \n",
    "    data_dict['len'].append(len(concept))\n",
    "\n",
    "\n",
    "data = pd.DataFrame(data_dict)"
   ]
  },
  {
   "cell_type": "code",
   "execution_count": null,
   "metadata": {},
   "outputs": [],
   "source": [
    "data.sort_values('tc', ascending=False).head(50)"
   ]
  },
  {
   "cell_type": "code",
   "execution_count": null,
   "metadata": {},
   "outputs": [],
   "source": [
    "len(data[(data['pmi_nl'] < 2) & (data['len'] == 2)]) / len(data)"
   ]
  },
  {
   "cell_type": "code",
   "execution_count": null,
   "metadata": {},
   "outputs": [],
   "source": [
    "sns.boxplot(x='type', y='pmi_nl', data=data, showfliers=False)"
   ]
  },
  {
   "cell_type": "code",
   "execution_count": null,
   "metadata": {},
   "outputs": [],
   "source": [
    "data_dict = {'ngram': [], 'freq': [], 'type': [], 'tc': [], 'pmi_nl': [], 'len': []}\n",
    "\n",
    "for n in range(2, 11):\n",
    "    for ngram, count in model.iterate(n, FREQ_THRESHOLD):\n",
    "        \n",
    "        ngram = tuple(ngram.split())\n",
    "\n",
    "        data_dict['ngram'].append(ngram)\n",
    "\n",
    "        data_dict['freq'].append(model[ngram])\n",
    "\n",
    "        if ngram in disc_concepts:\n",
    "            if ngram in cont_concepts:\n",
    "                ngram_type = 'both'\n",
    "            else:\n",
    "                ngram_type = 'only_DC'\n",
    "        elif ngram in cont_concepts:\n",
    "            ngram_type = 'only_CC'\n",
    "        else:\n",
    "            ngram_type = 'neither'\n",
    "            \n",
    "        data_dict['type'].append(ngram_type)\n",
    "\n",
    "        data_dict['pmi_nl'].append(conceptstats.length_normalized_pmi(ngram, model, smoothing=.1))\n",
    "        data_dict['tc'].append(conceptstats.term_coherence(ngram, model))\n",
    "\n",
    "        data_dict['len'].append(len(ngram))\n",
    "        \n",
    "data = pd.DataFrame(data_dict)"
   ]
  },
  {
   "cell_type": "code",
   "execution_count": null,
   "metadata": {},
   "outputs": [],
   "source": [
    "sns.boxplot(x='type', y='tc', data=data, showfliers=False)"
   ]
  },
  {
   "cell_type": "code",
   "execution_count": null,
   "metadata": {},
   "outputs": [],
   "source": [
    "pingouin.pairwise_ttests"
   ]
  },
  {
   "cell_type": "code",
   "execution_count": null,
   "metadata": {},
   "outputs": [],
   "source": []
  }
 ],
 "metadata": {
  "kernelspec": {
   "display_name": "Python 3",
   "language": "python",
   "name": "python3"
  },
  "language_info": {
   "codemirror_mode": {
    "name": "ipython",
    "version": 3
   },
   "file_extension": ".py",
   "mimetype": "text/x-python",
   "name": "python",
   "nbconvert_exporter": "python",
   "pygments_lexer": "ipython3",
   "version": "3.6.9"
  }
 },
 "nbformat": 4,
 "nbformat_minor": 2
}
