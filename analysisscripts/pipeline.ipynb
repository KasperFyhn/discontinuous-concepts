{
 "cells": [
  {
   "cell_type": "code",
   "execution_count": 1,
   "metadata": {},
   "outputs": [],
   "source": [
    "import utils\n",
    "import os\n",
    "os.chdir(utils.ROOT)"
   ]
  },
  {
   "cell_type": "code",
   "execution_count": 2,
   "metadata": {},
   "outputs": [
    {
     "name": "stdout",
     "output_type": "stream",
     "text": [
      "STEP 1: LOAD GOLD DOCUMENTS AND CONCEPTS\n",
      "Loading gold docs: Loading GENIA corpus ... NOTE: 13 files cannot get Constituent annotations!\n"
     ]
    },
    {
     "name": "stderr",
     "output_type": "stream",
     "text": [
      "100%|██████████| 1599/1599 [00:14<00:00, 108.48it/s]\n",
      "Removing unigram Concepts: 100%|██████████| 1599/1599 [00:02<00:00, 540.64it/s]"
     ]
    },
    {
     "name": "stdout",
     "output_type": "stream",
     "text": [
      "Retrieving gold standard concepts ... "
     ]
    },
    {
     "name": "stderr",
     "output_type": "stream",
     "text": [
      "\n"
     ]
    },
    {
     "name": "stdout",
     "output_type": "stream",
     "text": [
      "Skipped 2 concepts not bounded at tokens boundaries and filtered out 0 with the POS-tag filter: None\n"
     ]
    },
    {
     "name": "stderr",
     "output_type": "stream",
     "text": [
      "  1%|          | 18/1599 [00:00<00:09, 172.74it/s]"
     ]
    },
    {
     "name": "stdout",
     "output_type": "stream",
     "text": [
      "Loading GENIA corpus without annotations ...\n"
     ]
    },
    {
     "name": "stderr",
     "output_type": "stream",
     "text": [
      "100%|██████████| 1599/1599 [00:08<00:00, 186.39it/s]\n"
     ]
    },
    {
     "name": "stdout",
     "output_type": "stream",
     "text": [
      "STEP 2: Run pre-processing and concept extraction pipeline\n",
      "--- Running pre-processing pipeline ---\n",
      "Opening CoreNLP annotator server. It may still be running after termination if shut-down is not stated explicitly.\n"
     ]
    },
    {
     "name": "stderr",
     "output_type": "stream",
     "text": [
      "Annotating batch: 100%|██████████| 1599/1599 [00:10<00:00, 153.89it/s]\n",
      "Creating raw text corpus file:   2%|▏         | 26/1599 [00:00<00:06, 253.67it/s]"
     ]
    },
    {
     "name": "stdout",
     "output_type": "stream",
     "text": [
      "CoreNLP server shut down successfully.\n"
     ]
    },
    {
     "name": "stderr",
     "output_type": "stream",
     "text": [
      "Creating raw text corpus file: 100%|██████████| 1599/1599 [00:07<00:00, 213.70it/s]\n"
     ]
    },
    {
     "name": "stdout",
     "output_type": "stream",
     "text": [
      "Making colibri class file ...\n",
      "Encoding corpus ...\n"
     ]
    },
    {
     "name": "stderr",
     "output_type": "stream",
     "text": [
      "Extracting candidates: 100%|██████████| 1599/1599 [00:14<00:00, 113.74it/s]\n"
     ]
    },
    {
     "name": "stdout",
     "output_type": "stream",
     "text": [
      "--- Running concept extraction pipeline ---\n",
      "Extracted 106527 continuous candidates and 14409 discontinuous candidates.\n",
      "Scoring, ranking and filtering concepts\n",
      "Calculating C-values\n",
      "Calculating Rectified Frequencies\n",
      "Calculating TF-IDF values\n",
      "Calculating Glossex values\n",
      "Loading reference model for the first time.\n",
      "Calculating length normalized PMI values\n",
      "Calculating Term Coherence values\n",
      "Calculating votes between rankers\n",
      "Loading MeSH terms ...\n"
     ]
    },
    {
     "name": "stderr",
     "output_type": "stream",
     "text": [
      "Cleaning documents: 100%|██████████| 1599/1599 [00:00<00:00, 294825.57it/s]\n"
     ]
    },
    {
     "name": "stdout",
     "output_type": "stream",
     "text": [
      "\n",
      "STEP 3: EVALUATE\n",
      "THRESHOLD = 6\n",
      "Summary of CorpusReport for Concept\n",
      "# extracted concepts: 35990\n",
      "Precision: 0.422   (highest: 1.000, lowest: 0.000)\n",
      "Recall:    0.335   (highest: 1.000, lowest: 0.000)\n",
      "Error analysis of CorpusReport for Concept\n",
      "17540 (84.35%) FP's occur elsewhere as a gold standard concept.\n",
      "8060 (38.76%) FP's were verified in ontology source(s).\n",
      "18796 (90.39%) FP's were accounted for in this analysis.\n",
      "Corrected precision: 0.944\n",
      "1877 (6.23%) FN's are above max n.\n",
      "1090 (3.62%) FN's cannot be captured by the used POS-tag filter.\n",
      "17778 (59.05%) FN's occur less often than the frequency threshold.\n",
      "18806 (62.46%) FN's were accounted for in this analysis.\n",
      "Corrected recall: 0.573\n",
      "\n",
      "Summary of CorpusReport for DiscontinuousConcept\n",
      "# extracted concepts: 3585\n",
      "Precision: 0.032   (highest: 1.000, lowest: 0.000)\n",
      "Recall:    0.073   (highest: 1.000, lowest: 0.000)\n",
      "Error analysis of CorpusReport for DiscontinuousConcept\n",
      "3204 (92.33%) FP's occur elsewhere as a gold standard concept.\n",
      "880 (25.36%) FP's were verified in ontology source(s).\n",
      "3323 (95.76%) FP's were accounted for in this analysis.\n",
      "Corrected precision: 0.959\n",
      "80 (5.45%) FN's are above max n.\n",
      "69 (4.70%) FN's cannot be captured by the used POS-tag filter.\n",
      "967 (65.87%) FN's occur less often than the frequency threshold.\n",
      "988 (67.30%) FN's were accounted for in this analysis.\n",
      "Corrected recall: 0.193\n",
      "\n",
      "Summary of TypesReport\n",
      "# types      926\n",
      "Precision:   0.897\n",
      "Recall:      0.035\n",
      "F1-measure:  0.068\n",
      "Precision at k:\n",
      "\tP@100    0.91\n",
      "\tP@200    0.925\n",
      "\tP@500    0.934\n",
      "\tP@926    0.897\n",
      "Error analysis of TypesReport\n",
      "3 (3.16%) FP's were verified.\n",
      "3 (3.16%) FP's were accounted for in this analysis.\n",
      "Corrected precision: 0.901\n",
      "1624 (7.12%) FN's are above max n.\n",
      "18265 (80.09%) FN's occur less often than the frequency threshold.\n",
      "18356 (80.49%) FN's were accounted for in this analysis.\n",
      "Corrected recall: 0.157\n"
     ]
    }
   ],
   "source": [
    "from pipeline import runpipeline"
   ]
  },
  {
   "cell_type": "code",
   "execution_count": 3,
   "metadata": {},
   "outputs": [],
   "source": [
    "import pandas as pd\n",
    "data = pd.DataFrame(\n",
    "    {'freq_threshold': list(range(6, 7, 2)),\n",
    "     'all_prec': [r.precision() for r in runpipeline.all_corpus_reports],\n",
    "     'all_corr_prec': [r.corrected_precision() for r in runpipeline.all_corpus_reports],\n",
    "     'all_recall': [r.recall() for r in runpipeline.all_corpus_reports],\n",
    "     'all_corr_recall': [r.corrected_recall() for r in runpipeline.all_corpus_reports],\n",
    "     'all_n_concepts': [len(r.predicted) for r in runpipeline.all_corpus_reports],\n",
    "     'dc_prec': [r.precision() for r in runpipeline.all_dc_reports],\n",
    "     'dc_corr_prec': [r.corrected_precision() for r in runpipeline.all_dc_reports],\n",
    "     'dc_recall': [r.recall() for r in runpipeline.all_dc_reports],\n",
    "     'dc_corr_recall': [r.corrected_recall() for r in runpipeline.all_dc_reports],\n",
    "     'dc_n_concepts': [len(r.predicted) for r in runpipeline.all_dc_reports],\n",
    "     'types_prec': [r.precision() for r in runpipeline.all_types_reports],\n",
    "     'types_corr_prec': [r.corrected_precision() for r in runpipeline.all_types_reports],\n",
    "     'types_recall': [r.recall() for r in runpipeline.all_types_reports],\n",
    "     'types_corr_recall': [r.corrected_recall() for r in runpipeline.all_types_reports],\n",
    "     'types_n_concepts': [len(r.predicted) for r in runpipeline.all_types_reports]\n",
    "    }\n",
    ")"
   ]
  },
  {
   "cell_type": "code",
   "execution_count": 4,
   "metadata": {},
   "outputs": [],
   "source": [
    "import seaborn as sns"
   ]
  },
  {
   "cell_type": "code",
   "execution_count": 5,
   "metadata": {},
   "outputs": [
    {
     "data": {
      "text/plain": [
       "<matplotlib.axes._subplots.AxesSubplot at 0x7fa8e11a3160>"
      ]
     },
     "execution_count": 5,
     "metadata": {},
     "output_type": "execute_result"
    },
    {
     "data": {
      "image/png": "[encoded data removed]",
      "text/plain": [
       "<Figure size 432x288 with 1 Axes>"
      ]
     },
     "metadata": {},
     "output_type": "display_data"
    }
   ],
   "source": [
    "sns.lineplot(data['freq_threshold'], data['all_corr_prec'])"
   ]
  },
  {
   "cell_type": "code",
   "execution_count": 6,
   "metadata": {},
   "outputs": [
    {
     "name": "stdout",
     "output_type": "stream",
     "text": [
      "{'freq_threshold': 2, 'c_value_threshold': 2, 'max_n': 5, 'skipgrams': False, 'bridge_strength_threshold': 0.5, 'freq_factor': 1, 'coord_dcs': True, 'hypernym_dcs': True, 'consider_dcs_in_ranking': False, 'extraction_filter': 'simple'}\n"
     ]
    }
   ],
   "source": [
    "print(runpipeline.configs.__dict__)"
   ]
  },
  {
   "cell_type": "code",
   "execution_count": 7,
   "metadata": {},
   "outputs": [
    {
     "name": "stdout",
     "output_type": "stream",
     "text": [
      "Save the results? y\n",
      "File name: test-genia\n"
     ]
    }
   ],
   "source": [
    "if input('Save the results? ') == 'y':\n",
    "    save_dir = '/home/kasper/Dropbox/Masters thesis/pipeline-results/'\n",
    "    name = input('File name: ')\n",
    "    data.to_csv(save_dir + name + '.csv', )"
   ]
  },
  {
   "cell_type": "code",
   "execution_count": 8,
   "metadata": {},
   "outputs": [],
   "source": [
    "dc_ranks = {\n",
    "    c: runpipeline.metrics[c.normalized_concept()][runpipeline.cm.Metrics.VOTER]\n",
    "    if runpipeline.cm.Metrics.VOTER in runpipeline.metrics[c.normalized_concept()]\n",
    "    else 0 for c in runpipeline.all_dc_reports[0].predicted}"
   ]
  },
  {
   "cell_type": "code",
   "execution_count": 9,
   "metadata": {},
   "outputs": [],
   "source": [
    "from stats import conceptstats\n",
    "import math"
   ]
  },
  {
   "cell_type": "code",
   "execution_count": 10,
   "metadata": {},
   "outputs": [
    {
     "ename": "NameError",
     "evalue": "name 'sorted_dcs' is not defined",
     "output_type": "error",
     "traceback": [
      "\u001b[0;31m---------------------------------------------------------------------------\u001b[0m",
      "\u001b[0;31mNameError\u001b[0m                                 Traceback (most recent call last)",
      "\u001b[0;32m<ipython-input-10-a33103a7ff28>\u001b[0m in \u001b[0;36m<module>\u001b[0;34m\u001b[0m\n\u001b[0;32m----> 1\u001b[0;31m \u001b[0;32mfor\u001b[0m \u001b[0mdc\u001b[0m\u001b[0;34m,\u001b[0m \u001b[0mscore\u001b[0m \u001b[0;32min\u001b[0m \u001b[0msorted\u001b[0m\u001b[0;34m(\u001b[0m\u001b[0msorted_dcs\u001b[0m\u001b[0;34m.\u001b[0m\u001b[0mitems\u001b[0m\u001b[0;34m(\u001b[0m\u001b[0;34m)\u001b[0m\u001b[0;34m,\u001b[0m \u001b[0mkey\u001b[0m\u001b[0;34m=\u001b[0m\u001b[0;32mlambda\u001b[0m \u001b[0mx\u001b[0m\u001b[0;34m:\u001b[0m \u001b[0mx\u001b[0m\u001b[0;34m[\u001b[0m\u001b[0;36m1\u001b[0m\u001b[0;34m]\u001b[0m\u001b[0;34m,\u001b[0m \u001b[0mreverse\u001b[0m\u001b[0;34m=\u001b[0m\u001b[0;32mTrue\u001b[0m\u001b[0;34m)\u001b[0m\u001b[0;34m:\u001b[0m\u001b[0;34m\u001b[0m\u001b[0;34m\u001b[0m\u001b[0m\n\u001b[0m\u001b[1;32m      2\u001b[0m     \u001b[0mbridge\u001b[0m \u001b[0;34m=\u001b[0m \u001b[0mdc\u001b[0m\u001b[0;34m.\u001b[0m\u001b[0mget_bridges\u001b[0m\u001b[0;34m(\u001b[0m\u001b[0;34m)\u001b[0m\u001b[0;34m[\u001b[0m\u001b[0;36m0\u001b[0m\u001b[0;34m]\u001b[0m\u001b[0;34m\u001b[0m\u001b[0;34m\u001b[0m\u001b[0m\n\u001b[1;32m      3\u001b[0m     \u001b[0mbridge_strength\u001b[0m \u001b[0;34m=\u001b[0m \u001b[0mconceptstats\u001b[0m\u001b[0;34m.\u001b[0m\u001b[0mngram_pmi\u001b[0m\u001b[0;34m(\u001b[0m\u001b[0mbridge\u001b[0m\u001b[0;34m[\u001b[0m\u001b[0;36m0\u001b[0m\u001b[0;34m]\u001b[0m\u001b[0;34m.\u001b[0m\u001b[0mlemma\u001b[0m\u001b[0;34m(\u001b[0m\u001b[0;34m)\u001b[0m\u001b[0;34m,\u001b[0m \u001b[0mbridge\u001b[0m\u001b[0;34m[\u001b[0m\u001b[0;36m1\u001b[0m\u001b[0;34m]\u001b[0m\u001b[0;34m.\u001b[0m\u001b[0mlemma\u001b[0m\u001b[0;34m(\u001b[0m\u001b[0;34m)\u001b[0m\u001b[0;34m,\u001b[0m \u001b[0mrunpipeline\u001b[0m\u001b[0;34m.\u001b[0m\u001b[0mngram_model\u001b[0m\u001b[0;34m)\u001b[0m\u001b[0;31m\\\u001b[0m\u001b[0;34m\u001b[0m\u001b[0;34m\u001b[0m\u001b[0m\n\u001b[1;32m      4\u001b[0m         \u001b[0;34m+\u001b[0m \u001b[0mmath\u001b[0m\u001b[0;34m.\u001b[0m\u001b[0mlog10\u001b[0m\u001b[0;34m(\u001b[0m\u001b[0mrunpipeline\u001b[0m\u001b[0;34m.\u001b[0m\u001b[0mngram_model\u001b[0m\u001b[0;34m[\u001b[0m\u001b[0;34m(\u001b[0m\u001b[0mbridge\u001b[0m\u001b[0;34m[\u001b[0m\u001b[0;36m0\u001b[0m\u001b[0;34m]\u001b[0m\u001b[0;34m.\u001b[0m\u001b[0mlemma\u001b[0m\u001b[0;34m(\u001b[0m\u001b[0;34m)\u001b[0m\u001b[0;34m,\u001b[0m \u001b[0mbridge\u001b[0m\u001b[0;34m[\u001b[0m\u001b[0;36m1\u001b[0m\u001b[0;34m]\u001b[0m\u001b[0;34m.\u001b[0m\u001b[0mlemma\u001b[0m\u001b[0;34m(\u001b[0m\u001b[0;34m)\u001b[0m\u001b[0;34m)\u001b[0m\u001b[0;34m]\u001b[0m\u001b[0;34m)\u001b[0m\u001b[0;34m\u001b[0m\u001b[0;34m\u001b[0m\u001b[0m\n\u001b[1;32m      5\u001b[0m     \u001b[0mprint\u001b[0m\u001b[0;34m(\u001b[0m\u001b[0;34m' '\u001b[0m\u001b[0;34m.\u001b[0m\u001b[0mjoin\u001b[0m\u001b[0;34m(\u001b[0m\u001b[0mdc\u001b[0m\u001b[0;34m.\u001b[0m\u001b[0mnormalized_concept\u001b[0m\u001b[0;34m(\u001b[0m\u001b[0;34m)\u001b[0m\u001b[0;34m)\u001b[0m\u001b[0;34m,\u001b[0m \u001b[0mdc\u001b[0m\u001b[0;34m.\u001b[0m\u001b[0mget_context\u001b[0m\u001b[0;34m(\u001b[0m\u001b[0;34m)\u001b[0m\u001b[0;34m,\u001b[0m \u001b[0mscore\u001b[0m\u001b[0;34m,\u001b[0m \u001b[0mbridge_strength\u001b[0m\u001b[0;34m,\u001b[0m \u001b[0msep\u001b[0m\u001b[0;34m=\u001b[0m\u001b[0;34m'\\t'\u001b[0m\u001b[0;34m)\u001b[0m\u001b[0;34m\u001b[0m\u001b[0;34m\u001b[0m\u001b[0m\n",
      "\u001b[0;31mNameError\u001b[0m: name 'sorted_dcs' is not defined"
     ]
    }
   ],
   "source": [
    "for dc, score in sorted(sorted_dcs.items(), key=lambda x: x[1], reverse=True):\n",
    "    bridge = dc.get_bridges()[0]\n",
    "    bridge_strength = conceptstats.ngram_pmi(bridge[0].lemma(), bridge[1].lemma(), runpipeline.ngram_model)\\\n",
    "        + math.log10(runpipeline.ngram_model[(bridge[0].lemma(), bridge[1].lemma())]) \n",
    "    print(' '.join(dc.normalized_concept()), dc.get_context(), score, bridge_strength, sep='\\t')"
   ]
  },
  {
   "cell_type": "code",
   "execution_count": null,
   "metadata": {},
   "outputs": [],
   "source": []
  }
 ],
 "metadata": {
  "kernelspec": {
   "display_name": "Python 3",
   "language": "python",
   "name": "python3"
  },
  "language_info": {
   "codemirror_mode": {
    "name": "ipython",
    "version": 3
   },
   "file_extension": ".py",
   "mimetype": "text/x-python",
   "name": "python",
   "nbconvert_exporter": "python",
   "pygments_lexer": "ipython3",
   "version": "3.6.9"
  }
 },
 "nbformat": 4,
 "nbformat_minor": 2
}
